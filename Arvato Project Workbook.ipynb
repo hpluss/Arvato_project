{
 "cells": [
  {
   "cell_type": "markdown",
   "metadata": {},
   "source": [
    "# Capstone Project: Create a Customer Segmentation Report for Arvato Financial Services\n",
    "\n",
    "In this project, you will analyze demographics data for customers of a mail-order sales company in Germany, comparing it against demographics information for the general population. You'll use unsupervised learning techniques to perform customer segmentation, identifying the parts of the population that best describe the core customer base of the company. Then, you'll apply what you've learned on a third dataset with demographics information for targets of a marketing campaign for the company, and use a model to predict which individuals are most likely to convert into becoming customers for the company. The data that you will use has been provided by our partners at Bertelsmann Arvato Analytics, and represents a real-life data science task.\n",
    "\n",
    "If you completed the first term of this program, you will be familiar with the first part of this project, from the unsupervised learning project. The versions of those two datasets used in this project will include many more features and has not been pre-cleaned. You are also free to choose whatever approach you'd like to analyzing the data rather than follow pre-determined steps. In your work on this project, make sure that you carefully document your steps and decisions, since your main deliverable for this project will be a blog post reporting your findings."
   ]
  },
  {
   "cell_type": "code",
   "execution_count": 577,
   "metadata": {},
   "outputs": [],
   "source": [
    "# import libraries here; add more as necessary\n",
    "import numpy as np\n",
    "import pandas as pd\n",
    "import matplotlib.pyplot as plt\n",
    "import seaborn as sns\n",
    "from timeit import timeit\n",
    "import pickle\n",
    "from sklearn.preprocessing import Imputer, StandardScaler\n",
    "from sklearn.decomposition import PCA\n",
    "from sklearn.cluster import KMeans\n",
    "from sklearn.model_selection import train_test_split\n",
    "from sklearn.ensemble import (RandomForestClassifier, AdaBoostClassifier)\n",
    "from sklearn.linear_model import LogisticRegression\n",
    "from sklearn.metrics import roc_auc_score\n",
    "\n",
    "# magic word for producing visualizations in notebook\n",
    "%matplotlib inline"
   ]
  },
  {
   "cell_type": "markdown",
   "metadata": {},
   "source": [
    "## Part 0: Get to Know the Data\n",
    "\n",
    "There are four data files associated with this project:\n",
    "\n",
    "- `Udacity_AZDIAS_052018.csv`: Demographics data for the general population of Germany; 891 211 persons (rows) x 366 features (columns).\n",
    "- `Udacity_CUSTOMERS_052018.csv`: Demographics data for customers of a mail-order company; 191 652 persons (rows) x 369 features (columns).\n",
    "- `Udacity_MAILOUT_052018_TRAIN.csv`: Demographics data for individuals who were targets of a marketing campaign; 42 982 persons (rows) x 367 (columns).\n",
    "- `Udacity_MAILOUT_052018_TEST.csv`: Demographics data for individuals who were targets of a marketing campaign; 42 833 persons (rows) x 366 (columns).\n",
    "\n",
    "Each row of the demographics files represents a single person, but also includes information outside of individuals, including information about their household, building, and neighborhood. Use the information from the first two files to figure out how customers (\"CUSTOMERS\") are similar to or differ from the general population at large (\"AZDIAS\"), then use your analysis to make predictions on the other two files (\"MAILOUT\"), predicting which recipients are most likely to become a customer for the mail-order company.\n",
    "\n",
    "The \"CUSTOMERS\" file contains three extra columns ('CUSTOMER_GROUP', 'ONLINE_PURCHASE', and 'PRODUCT_GROUP'), which provide broad information about the customers depicted in the file. The original \"MAILOUT\" file included one additional column, \"RESPONSE\", which indicated whether or not each recipient became a customer of the company. For the \"TRAIN\" subset, this column has been retained, but in the \"TEST\" subset it has been removed; it is against that withheld column that your final predictions will be assessed in the Kaggle competition.\n",
    "\n",
    "Otherwise, all of the remaining columns are the same between the three data files. For more information about the columns depicted in the files, you can refer to two Excel spreadsheets provided in the workspace. [One of them](./DIAS Information Levels - Attributes 2017.xlsx) is a top-level list of attributes and descriptions, organized by informational category. [The other](./DIAS Attributes - Values 2017.xlsx) is a detailed mapping of data values for each feature in alphabetical order.\n",
    "\n",
    "In the below cell, we've provided some initial code to load in the first two datasets. Note for all of the `.csv` data files in this project that they're semicolon (`;`) delimited, so an additional argument in the [`read_csv()`](https://pandas.pydata.org/pandas-docs/stable/generated/pandas.read_csv.html) call has been included to read in the data properly. Also, considering the size of the datasets, it may take some time for them to load completely.\n",
    "\n",
    "You'll notice when the data is loaded in that a warning message will immediately pop up. Before you really start digging into the modeling and analysis, you're going to need to perform some cleaning. Take some time to browse the structure of the data and look over the informational spreadsheets to understand the data values. Make some decisions on which features to keep, which features to drop, and if any revisions need to be made on data formats. It'll be a good idea to create a function with pre-processing steps, since you'll need to clean all of the datasets before you work with them."
   ]
  },
  {
   "cell_type": "markdown",
   "metadata": {},
   "source": [
    "## Part 0: Wrangling and EDA"
   ]
  },
  {
   "cell_type": "markdown",
   "metadata": {},
   "source": [
    "### 0.1 Loading data"
   ]
  },
  {
   "cell_type": "code",
   "execution_count": 578,
   "metadata": {},
   "outputs": [
    {
     "name": "stderr",
     "output_type": "stream",
     "text": [
      "/opt/conda/lib/python3.6/site-packages/IPython/core/interactiveshell.py:2785: DtypeWarning: Columns (18,19) have mixed types. Specify dtype option on import or set low_memory=False.\n",
      "  interactivity=interactivity, compiler=compiler, result=result)\n"
     ]
    }
   ],
   "source": [
    "# CUSTOMER TABLE \n",
    "\n",
    "customers = pd.read_csv('../../data/Term2/capstone/arvato_data/Udacity_CUSTOMERS_052018.csv', sep=';')"
   ]
  },
  {
   "cell_type": "code",
   "execution_count": null,
   "metadata": {},
   "outputs": [
    {
     "name": "stderr",
     "output_type": "stream",
     "text": [
      "/opt/conda/lib/python3.6/site-packages/IPython/core/interactiveshell.py:2785: DtypeWarning: Columns (18,19) have mixed types. Specify dtype option on import or set low_memory=False.\n",
      "  interactivity=interactivity, compiler=compiler, result=result)\n"
     ]
    }
   ],
   "source": [
    "# POPULATION DATA\n",
    "population = pd.read_csv('../../data/Term2/capstone/arvato_data/Udacity_AZDIAS_052018.csv', sep=';')\n",
    "# From a saved pickle file to accelerate loading process\n",
    "\n",
    "#with open('population_full', 'rb') as f1:\n",
    "#    population = pickle.load(f1)"
   ]
  },
  {
   "cell_type": "code",
   "execution_count": 356,
   "metadata": {},
   "outputs": [],
   "source": [
    "# DESCRIPTION DATA\n",
    "\n",
    "description=pd.read_excel('DIAS Attributes - Values 2017.xlsx',header=1)"
   ]
  },
  {
   "cell_type": "code",
   "execution_count": 357,
   "metadata": {},
   "outputs": [
    {
     "data": {
      "text/plain": [
       "((891221, 366), (191652, 369), (2258, 4))"
      ]
     },
     "execution_count": 357,
     "metadata": {},
     "output_type": "execute_result"
    }
   ],
   "source": [
    "# Shape of all dataframes\n",
    "population.shape, customers.shape, description.shape"
   ]
  },
  {
   "cell_type": "markdown",
   "metadata": {},
   "source": [
    "### 0.2 Assessing and cleaning data"
   ]
  },
  {
   "cell_type": "markdown",
   "metadata": {},
   "source": [
    "### Assessing "
   ]
  },
  {
   "cell_type": "code",
   "execution_count": 358,
   "metadata": {},
   "outputs": [
    {
     "name": "stdout",
     "output_type": "stream",
     "text": [
      "CPU times: user 1.68 s, sys: 3.14 s, total: 4.82 s\n",
      "Wall time: 3min 25s\n"
     ]
    }
   ],
   "source": [
    "%%time\n",
    "# To accelerate the process , lets get a sample of each dataframes\n",
    "\n",
    "#pop = population.sample(n=5000, random_state=10)\n",
    "#cust = customers.sample(n=5000,random_state=10)\n",
    "\n",
    "pop = population\n",
    "cust = customers"
   ]
  },
  {
   "cell_type": "markdown",
   "metadata": {},
   "source": [
    "##### Population data"
   ]
  },
  {
   "cell_type": "code",
   "execution_count": 395,
   "metadata": {},
   "outputs": [
    {
     "data": {
      "text/html": [
       "<div>\n",
       "<style scoped>\n",
       "    .dataframe tbody tr th:only-of-type {\n",
       "        vertical-align: middle;\n",
       "    }\n",
       "\n",
       "    .dataframe tbody tr th {\n",
       "        vertical-align: top;\n",
       "    }\n",
       "\n",
       "    .dataframe thead th {\n",
       "        text-align: right;\n",
       "    }\n",
       "</style>\n",
       "<table border=\"1\" class=\"dataframe\">\n",
       "  <thead>\n",
       "    <tr style=\"text-align: right;\">\n",
       "      <th></th>\n",
       "      <th>LNR</th>\n",
       "      <th>AGER_TYP</th>\n",
       "      <th>AKT_DAT_KL</th>\n",
       "      <th>ALTER_HH</th>\n",
       "      <th>ALTER_KIND1</th>\n",
       "      <th>ALTER_KIND2</th>\n",
       "      <th>ALTER_KIND3</th>\n",
       "      <th>ALTER_KIND4</th>\n",
       "      <th>ALTERSKATEGORIE_FEIN</th>\n",
       "      <th>ANZ_HAUSHALTE_AKTIV</th>\n",
       "      <th>...</th>\n",
       "      <th>VHN</th>\n",
       "      <th>VK_DHT4A</th>\n",
       "      <th>VK_DISTANZ</th>\n",
       "      <th>VK_ZG11</th>\n",
       "      <th>W_KEIT_KIND_HH</th>\n",
       "      <th>WOHNDAUER_2008</th>\n",
       "      <th>WOHNLAGE</th>\n",
       "      <th>ZABEOTYP</th>\n",
       "      <th>ANREDE_KZ</th>\n",
       "      <th>ALTERSKATEGORIE_GROB</th>\n",
       "    </tr>\n",
       "  </thead>\n",
       "  <tbody>\n",
       "    <tr>\n",
       "      <th>205964</th>\n",
       "      <td>300509</td>\n",
       "      <td>2</td>\n",
       "      <td>1.0</td>\n",
       "      <td>0.0</td>\n",
       "      <td>17.0</td>\n",
       "      <td>NaN</td>\n",
       "      <td>NaN</td>\n",
       "      <td>NaN</td>\n",
       "      <td>12.0</td>\n",
       "      <td>6.0</td>\n",
       "      <td>...</td>\n",
       "      <td>4.0</td>\n",
       "      <td>2.0</td>\n",
       "      <td>4.0</td>\n",
       "      <td>2.0</td>\n",
       "      <td>1.0</td>\n",
       "      <td>9.0</td>\n",
       "      <td>3.0</td>\n",
       "      <td>3</td>\n",
       "      <td>1</td>\n",
       "      <td>3</td>\n",
       "    </tr>\n",
       "    <tr>\n",
       "      <th>543582</th>\n",
       "      <td>778553</td>\n",
       "      <td>-1</td>\n",
       "      <td>3.0</td>\n",
       "      <td>16.0</td>\n",
       "      <td>11.0</td>\n",
       "      <td>13.0</td>\n",
       "      <td>NaN</td>\n",
       "      <td>NaN</td>\n",
       "      <td>16.0</td>\n",
       "      <td>2.0</td>\n",
       "      <td>...</td>\n",
       "      <td>2.0</td>\n",
       "      <td>3.0</td>\n",
       "      <td>6.0</td>\n",
       "      <td>9.0</td>\n",
       "      <td>1.0</td>\n",
       "      <td>9.0</td>\n",
       "      <td>2.0</td>\n",
       "      <td>4</td>\n",
       "      <td>2</td>\n",
       "      <td>1</td>\n",
       "    </tr>\n",
       "    <tr>\n",
       "      <th>704843</th>\n",
       "      <td>590887</td>\n",
       "      <td>-1</td>\n",
       "      <td>1.0</td>\n",
       "      <td>21.0</td>\n",
       "      <td>NaN</td>\n",
       "      <td>NaN</td>\n",
       "      <td>NaN</td>\n",
       "      <td>NaN</td>\n",
       "      <td>14.0</td>\n",
       "      <td>2.0</td>\n",
       "      <td>...</td>\n",
       "      <td>2.0</td>\n",
       "      <td>3.0</td>\n",
       "      <td>5.0</td>\n",
       "      <td>3.0</td>\n",
       "      <td>2.0</td>\n",
       "      <td>9.0</td>\n",
       "      <td>3.0</td>\n",
       "      <td>4</td>\n",
       "      <td>1</td>\n",
       "      <td>3</td>\n",
       "    </tr>\n",
       "    <tr>\n",
       "      <th>52057</th>\n",
       "      <td>739485</td>\n",
       "      <td>-1</td>\n",
       "      <td>1.0</td>\n",
       "      <td>0.0</td>\n",
       "      <td>NaN</td>\n",
       "      <td>NaN</td>\n",
       "      <td>NaN</td>\n",
       "      <td>NaN</td>\n",
       "      <td>14.0</td>\n",
       "      <td>1.0</td>\n",
       "      <td>...</td>\n",
       "      <td>2.0</td>\n",
       "      <td>4.0</td>\n",
       "      <td>7.0</td>\n",
       "      <td>5.0</td>\n",
       "      <td>4.0</td>\n",
       "      <td>9.0</td>\n",
       "      <td>3.0</td>\n",
       "      <td>1</td>\n",
       "      <td>1</td>\n",
       "      <td>3</td>\n",
       "    </tr>\n",
       "  </tbody>\n",
       "</table>\n",
       "<p>4 rows × 366 columns</p>\n",
       "</div>"
      ],
      "text/plain": [
       "           LNR  AGER_TYP  AKT_DAT_KL  ALTER_HH  ALTER_KIND1  ALTER_KIND2  \\\n",
       "205964  300509         2         1.0       0.0         17.0          NaN   \n",
       "543582  778553        -1         3.0      16.0         11.0         13.0   \n",
       "704843  590887        -1         1.0      21.0          NaN          NaN   \n",
       "52057   739485        -1         1.0       0.0          NaN          NaN   \n",
       "\n",
       "        ALTER_KIND3  ALTER_KIND4  ALTERSKATEGORIE_FEIN  ANZ_HAUSHALTE_AKTIV  \\\n",
       "205964          NaN          NaN                  12.0                  6.0   \n",
       "543582          NaN          NaN                  16.0                  2.0   \n",
       "704843          NaN          NaN                  14.0                  2.0   \n",
       "52057           NaN          NaN                  14.0                  1.0   \n",
       "\n",
       "               ...           VHN  VK_DHT4A  VK_DISTANZ  VK_ZG11  \\\n",
       "205964         ...           4.0       2.0         4.0      2.0   \n",
       "543582         ...           2.0       3.0         6.0      9.0   \n",
       "704843         ...           2.0       3.0         5.0      3.0   \n",
       "52057          ...           2.0       4.0         7.0      5.0   \n",
       "\n",
       "        W_KEIT_KIND_HH  WOHNDAUER_2008  WOHNLAGE ZABEOTYP ANREDE_KZ  \\\n",
       "205964             1.0             9.0       3.0        3         1   \n",
       "543582             1.0             9.0       2.0        4         2   \n",
       "704843             2.0             9.0       3.0        4         1   \n",
       "52057              4.0             9.0       3.0        1         1   \n",
       "\n",
       "       ALTERSKATEGORIE_GROB  \n",
       "205964                    3  \n",
       "543582                    1  \n",
       "704843                    3  \n",
       "52057                     3  \n",
       "\n",
       "[4 rows x 366 columns]"
      ]
     },
     "execution_count": 395,
     "metadata": {},
     "output_type": "execute_result"
    }
   ],
   "source": [
    "# let's have a view of data\n",
    "pop.head(4)"
   ]
  },
  {
   "cell_type": "code",
   "execution_count": 396,
   "metadata": {},
   "outputs": [
    {
     "name": "stdout",
     "output_type": "stream",
     "text": [
      "<class 'pandas.core.frame.DataFrame'>\n",
      "Int64Index: 5000 entries, 205964 to 673411\n",
      "Columns: 366 entries, LNR to ALTERSKATEGORIE_GROB\n",
      "dtypes: float64(267), int64(93), object(6)\n",
      "memory usage: 14.0+ MB\n"
     ]
    }
   ],
   "source": [
    "# lets have a global view of data\n",
    "pop.info()"
   ]
  },
  {
   "cell_type": "code",
   "execution_count": 397,
   "metadata": {},
   "outputs": [
    {
     "data": {
      "text/plain": [
       "['CAMEO_DEU_2015',\n",
       " 'CAMEO_DEUG_2015',\n",
       " 'CAMEO_INTL_2015',\n",
       " 'D19_LETZTER_KAUF_BRANCHE',\n",
       " 'EINGEFUEGT_AM',\n",
       " 'OST_WEST_KZ']"
      ]
     },
     "execution_count": 397,
     "metadata": {},
     "output_type": "execute_result"
    }
   ],
   "source": [
    "# lets see the 6 objects features\n",
    "list(pop.select_dtypes(include='object').columns)"
   ]
  },
  {
   "cell_type": "code",
   "execution_count": 430,
   "metadata": {},
   "outputs": [
    {
     "data": {
      "text/plain": [
       "CAMEO_DEU_2015               45\n",
       "CAMEO_DEUG_2015              19\n",
       "CAMEO_INTL_2015              43\n",
       "D19_LETZTER_KAUF_BRANCHE     35\n",
       "EINGEFUEGT_AM               609\n",
       "OST_WEST_KZ                   2\n",
       "dtype: int64"
      ]
     },
     "execution_count": 430,
     "metadata": {},
     "output_type": "execute_result"
    }
   ],
   "source": [
    "# lets see the 6 objects features\n",
    "pop.select_dtypes(include='object').nunique()"
   ]
  },
  {
   "cell_type": "markdown",
   "metadata": {},
   "source": [
    "These variables contain a large number of modalities. This will require special reprocessing in the cleaning phase."
   ]
  },
  {
   "cell_type": "code",
   "execution_count": 398,
   "metadata": {},
   "outputs": [
    {
     "data": {
      "text/html": [
       "<div>\n",
       "<style scoped>\n",
       "    .dataframe tbody tr th:only-of-type {\n",
       "        vertical-align: middle;\n",
       "    }\n",
       "\n",
       "    .dataframe tbody tr th {\n",
       "        vertical-align: top;\n",
       "    }\n",
       "\n",
       "    .dataframe thead th {\n",
       "        text-align: right;\n",
       "    }\n",
       "</style>\n",
       "<table border=\"1\" class=\"dataframe\">\n",
       "  <thead>\n",
       "    <tr style=\"text-align: right;\">\n",
       "      <th></th>\n",
       "      <th>LNR</th>\n",
       "      <th>AGER_TYP</th>\n",
       "      <th>AKT_DAT_KL</th>\n",
       "      <th>ALTER_HH</th>\n",
       "      <th>ALTER_KIND1</th>\n",
       "      <th>ALTER_KIND2</th>\n",
       "      <th>ALTER_KIND3</th>\n",
       "      <th>ALTER_KIND4</th>\n",
       "      <th>ALTERSKATEGORIE_FEIN</th>\n",
       "      <th>ANZ_HAUSHALTE_AKTIV</th>\n",
       "      <th>...</th>\n",
       "      <th>VHN</th>\n",
       "      <th>VK_DHT4A</th>\n",
       "      <th>VK_DISTANZ</th>\n",
       "      <th>VK_ZG11</th>\n",
       "      <th>W_KEIT_KIND_HH</th>\n",
       "      <th>WOHNDAUER_2008</th>\n",
       "      <th>WOHNLAGE</th>\n",
       "      <th>ZABEOTYP</th>\n",
       "      <th>ANREDE_KZ</th>\n",
       "      <th>ALTERSKATEGORIE_GROB</th>\n",
       "    </tr>\n",
       "  </thead>\n",
       "  <tbody>\n",
       "    <tr>\n",
       "      <th>count</th>\n",
       "      <td>5.000000e+03</td>\n",
       "      <td>5000.000000</td>\n",
       "      <td>4584.000000</td>\n",
       "      <td>4584.000000</td>\n",
       "      <td>433.000000</td>\n",
       "      <td>152.00000</td>\n",
       "      <td>41.000000</td>\n",
       "      <td>12.000000</td>\n",
       "      <td>3508.000000</td>\n",
       "      <td>4453.000000</td>\n",
       "      <td>...</td>\n",
       "      <td>4295.000000</td>\n",
       "      <td>4568.000000</td>\n",
       "      <td>4568.000000</td>\n",
       "      <td>4568.000000</td>\n",
       "      <td>4398.000000</td>\n",
       "      <td>4584.000000</td>\n",
       "      <td>4453.000000</td>\n",
       "      <td>5000.000000</td>\n",
       "      <td>5000.000000</td>\n",
       "      <td>5000.000000</td>\n",
       "    </tr>\n",
       "    <tr>\n",
       "      <th>mean</th>\n",
       "      <td>6.362010e+05</td>\n",
       "      <td>-0.325200</td>\n",
       "      <td>4.366928</td>\n",
       "      <td>10.728185</td>\n",
       "      <td>11.764434</td>\n",
       "      <td>13.12500</td>\n",
       "      <td>14.024390</td>\n",
       "      <td>15.250000</td>\n",
       "      <td>13.559578</td>\n",
       "      <td>8.251067</td>\n",
       "      <td>...</td>\n",
       "      <td>2.409779</td>\n",
       "      <td>5.974168</td>\n",
       "      <td>7.551445</td>\n",
       "      <td>5.942863</td>\n",
       "      <td>3.935198</td>\n",
       "      <td>7.884380</td>\n",
       "      <td>4.090052</td>\n",
       "      <td>3.319200</td>\n",
       "      <td>1.510800</td>\n",
       "      <td>2.798800</td>\n",
       "    </tr>\n",
       "    <tr>\n",
       "      <th>std</th>\n",
       "      <td>2.590800e+05</td>\n",
       "      <td>1.219566</td>\n",
       "      <td>3.624860</td>\n",
       "      <td>7.665340</td>\n",
       "      <td>4.179971</td>\n",
       "      <td>3.32622</td>\n",
       "      <td>2.514834</td>\n",
       "      <td>1.815339</td>\n",
       "      <td>5.088903</td>\n",
       "      <td>15.261919</td>\n",
       "      <td>...</td>\n",
       "      <td>1.169476</td>\n",
       "      <td>2.833337</td>\n",
       "      <td>3.198009</td>\n",
       "      <td>2.762082</td>\n",
       "      <td>1.970012</td>\n",
       "      <td>1.926804</td>\n",
       "      <td>1.951161</td>\n",
       "      <td>1.354577</td>\n",
       "      <td>0.499933</td>\n",
       "      <td>1.048303</td>\n",
       "    </tr>\n",
       "    <tr>\n",
       "      <th>min</th>\n",
       "      <td>1.916600e+05</td>\n",
       "      <td>-1.000000</td>\n",
       "      <td>1.000000</td>\n",
       "      <td>0.000000</td>\n",
       "      <td>2.000000</td>\n",
       "      <td>6.00000</td>\n",
       "      <td>8.000000</td>\n",
       "      <td>12.000000</td>\n",
       "      <td>0.000000</td>\n",
       "      <td>0.000000</td>\n",
       "      <td>...</td>\n",
       "      <td>0.000000</td>\n",
       "      <td>1.000000</td>\n",
       "      <td>1.000000</td>\n",
       "      <td>1.000000</td>\n",
       "      <td>0.000000</td>\n",
       "      <td>1.000000</td>\n",
       "      <td>0.000000</td>\n",
       "      <td>1.000000</td>\n",
       "      <td>1.000000</td>\n",
       "      <td>1.000000</td>\n",
       "    </tr>\n",
       "    <tr>\n",
       "      <th>25%</th>\n",
       "      <td>4.101110e+05</td>\n",
       "      <td>-1.000000</td>\n",
       "      <td>1.000000</td>\n",
       "      <td>0.000000</td>\n",
       "      <td>8.000000</td>\n",
       "      <td>10.00000</td>\n",
       "      <td>12.000000</td>\n",
       "      <td>15.000000</td>\n",
       "      <td>11.000000</td>\n",
       "      <td>1.000000</td>\n",
       "      <td>...</td>\n",
       "      <td>2.000000</td>\n",
       "      <td>4.000000</td>\n",
       "      <td>6.000000</td>\n",
       "      <td>4.000000</td>\n",
       "      <td>2.000000</td>\n",
       "      <td>8.000000</td>\n",
       "      <td>3.000000</td>\n",
       "      <td>3.000000</td>\n",
       "      <td>1.000000</td>\n",
       "      <td>2.000000</td>\n",
       "    </tr>\n",
       "    <tr>\n",
       "      <th>50%</th>\n",
       "      <td>6.396100e+05</td>\n",
       "      <td>-1.000000</td>\n",
       "      <td>2.000000</td>\n",
       "      <td>13.000000</td>\n",
       "      <td>12.000000</td>\n",
       "      <td>13.00000</td>\n",
       "      <td>14.000000</td>\n",
       "      <td>15.000000</td>\n",
       "      <td>14.000000</td>\n",
       "      <td>4.000000</td>\n",
       "      <td>...</td>\n",
       "      <td>2.000000</td>\n",
       "      <td>6.000000</td>\n",
       "      <td>8.000000</td>\n",
       "      <td>6.000000</td>\n",
       "      <td>4.000000</td>\n",
       "      <td>9.000000</td>\n",
       "      <td>4.000000</td>\n",
       "      <td>3.000000</td>\n",
       "      <td>2.000000</td>\n",
       "      <td>3.000000</td>\n",
       "    </tr>\n",
       "    <tr>\n",
       "      <th>75%</th>\n",
       "      <td>8.587825e+05</td>\n",
       "      <td>0.000000</td>\n",
       "      <td>9.000000</td>\n",
       "      <td>17.000000</td>\n",
       "      <td>16.000000</td>\n",
       "      <td>16.00000</td>\n",
       "      <td>16.000000</td>\n",
       "      <td>16.250000</td>\n",
       "      <td>17.000000</td>\n",
       "      <td>9.000000</td>\n",
       "      <td>...</td>\n",
       "      <td>3.000000</td>\n",
       "      <td>8.000000</td>\n",
       "      <td>10.000000</td>\n",
       "      <td>8.000000</td>\n",
       "      <td>6.000000</td>\n",
       "      <td>9.000000</td>\n",
       "      <td>5.000000</td>\n",
       "      <td>4.000000</td>\n",
       "      <td>2.000000</td>\n",
       "      <td>4.000000</td>\n",
       "    </tr>\n",
       "    <tr>\n",
       "      <th>max</th>\n",
       "      <td>1.082578e+06</td>\n",
       "      <td>3.000000</td>\n",
       "      <td>9.000000</td>\n",
       "      <td>21.000000</td>\n",
       "      <td>18.000000</td>\n",
       "      <td>18.00000</td>\n",
       "      <td>18.000000</td>\n",
       "      <td>18.000000</td>\n",
       "      <td>25.000000</td>\n",
       "      <td>367.000000</td>\n",
       "      <td>...</td>\n",
       "      <td>4.000000</td>\n",
       "      <td>11.000000</td>\n",
       "      <td>13.000000</td>\n",
       "      <td>11.000000</td>\n",
       "      <td>6.000000</td>\n",
       "      <td>9.000000</td>\n",
       "      <td>8.000000</td>\n",
       "      <td>6.000000</td>\n",
       "      <td>2.000000</td>\n",
       "      <td>9.000000</td>\n",
       "    </tr>\n",
       "  </tbody>\n",
       "</table>\n",
       "<p>8 rows × 360 columns</p>\n",
       "</div>"
      ],
      "text/plain": [
       "                LNR     AGER_TYP   AKT_DAT_KL     ALTER_HH  ALTER_KIND1  \\\n",
       "count  5.000000e+03  5000.000000  4584.000000  4584.000000   433.000000   \n",
       "mean   6.362010e+05    -0.325200     4.366928    10.728185    11.764434   \n",
       "std    2.590800e+05     1.219566     3.624860     7.665340     4.179971   \n",
       "min    1.916600e+05    -1.000000     1.000000     0.000000     2.000000   \n",
       "25%    4.101110e+05    -1.000000     1.000000     0.000000     8.000000   \n",
       "50%    6.396100e+05    -1.000000     2.000000    13.000000    12.000000   \n",
       "75%    8.587825e+05     0.000000     9.000000    17.000000    16.000000   \n",
       "max    1.082578e+06     3.000000     9.000000    21.000000    18.000000   \n",
       "\n",
       "       ALTER_KIND2  ALTER_KIND3  ALTER_KIND4  ALTERSKATEGORIE_FEIN  \\\n",
       "count    152.00000    41.000000    12.000000           3508.000000   \n",
       "mean      13.12500    14.024390    15.250000             13.559578   \n",
       "std        3.32622     2.514834     1.815339              5.088903   \n",
       "min        6.00000     8.000000    12.000000              0.000000   \n",
       "25%       10.00000    12.000000    15.000000             11.000000   \n",
       "50%       13.00000    14.000000    15.000000             14.000000   \n",
       "75%       16.00000    16.000000    16.250000             17.000000   \n",
       "max       18.00000    18.000000    18.000000             25.000000   \n",
       "\n",
       "       ANZ_HAUSHALTE_AKTIV          ...                   VHN     VK_DHT4A  \\\n",
       "count          4453.000000          ...           4295.000000  4568.000000   \n",
       "mean              8.251067          ...              2.409779     5.974168   \n",
       "std              15.261919          ...              1.169476     2.833337   \n",
       "min               0.000000          ...              0.000000     1.000000   \n",
       "25%               1.000000          ...              2.000000     4.000000   \n",
       "50%               4.000000          ...              2.000000     6.000000   \n",
       "75%               9.000000          ...              3.000000     8.000000   \n",
       "max             367.000000          ...              4.000000    11.000000   \n",
       "\n",
       "        VK_DISTANZ      VK_ZG11  W_KEIT_KIND_HH  WOHNDAUER_2008     WOHNLAGE  \\\n",
       "count  4568.000000  4568.000000     4398.000000     4584.000000  4453.000000   \n",
       "mean      7.551445     5.942863        3.935198        7.884380     4.090052   \n",
       "std       3.198009     2.762082        1.970012        1.926804     1.951161   \n",
       "min       1.000000     1.000000        0.000000        1.000000     0.000000   \n",
       "25%       6.000000     4.000000        2.000000        8.000000     3.000000   \n",
       "50%       8.000000     6.000000        4.000000        9.000000     4.000000   \n",
       "75%      10.000000     8.000000        6.000000        9.000000     5.000000   \n",
       "max      13.000000    11.000000        6.000000        9.000000     8.000000   \n",
       "\n",
       "          ZABEOTYP    ANREDE_KZ  ALTERSKATEGORIE_GROB  \n",
       "count  5000.000000  5000.000000           5000.000000  \n",
       "mean      3.319200     1.510800              2.798800  \n",
       "std       1.354577     0.499933              1.048303  \n",
       "min       1.000000     1.000000              1.000000  \n",
       "25%       3.000000     1.000000              2.000000  \n",
       "50%       3.000000     2.000000              3.000000  \n",
       "75%       4.000000     2.000000              4.000000  \n",
       "max       6.000000     2.000000              9.000000  \n",
       "\n",
       "[8 rows x 360 columns]"
      ]
     },
     "execution_count": 398,
     "metadata": {},
     "output_type": "execute_result"
    }
   ],
   "source": [
    "# it seems like we have a bunch of unknowns values for numerical features (360 out of 366 features)\n",
    "pop.describe()"
   ]
  },
  {
   "cell_type": "code",
   "execution_count": 399,
   "metadata": {},
   "outputs": [
    {
     "name": "stdout",
     "output_type": "stream",
     "text": [
      "Total of NAns values :  192507\n"
     ]
    },
    {
     "data": {
      "image/png": "[encoded data removed]",
      "text/plain": [
       "<matplotlib.figure.Figure at 0x7f5c7bc81d30>"
      ]
     },
     "metadata": {
      "needs_background": "light"
     },
     "output_type": "display_data"
    }
   ],
   "source": [
    "print(\"Total of NAns values : \",pop.isnull().sum().sum())\n",
    "fig, ax = plt.subplots(figsize=(16,6))\n",
    "ax = fig.add_axes([0,0,1,1])\n",
    "ax.bar(np.arange(len(pop.columns)), pop.isnull().sum());"
   ]
  },
  {
   "cell_type": "markdown",
   "metadata": {},
   "source": [
    "It appears that some columns are essentially composed of missing data. it is for the majority the first columns of our dataframe.We will only retain for our analysis those columns that do not contain more than 40% of missing data. This will allow us to eliminate columns with too much missing data."
   ]
  },
  {
   "cell_type": "code",
   "execution_count": 400,
   "metadata": {},
   "outputs": [
    {
     "data": {
      "text/plain": [
       "Index(['ALTER_KIND1', 'ALTER_KIND2', 'ALTER_KIND3', 'ALTER_KIND4', 'EXTSEL992',\n",
       "       'KK_KUNDENTYP'],\n",
       "      dtype='object')"
      ]
     },
     "execution_count": 400,
     "metadata": {},
     "output_type": "execute_result"
    }
   ],
   "source": [
    "# Lets see columns with more than 40% Nas\n",
    "mask = (pop.isnull().sum()/pop.shape[0])>0.4\n",
    "pop.columns[mask]"
   ]
  },
  {
   "cell_type": "markdown",
   "metadata": {},
   "source": [
    "Before proceeding to remove these columns, we need to perform the same analysis with the customer data. Indeed, we must arrive at a common base of columns between the two dataframes in order to perform clustering."
   ]
  },
  {
   "cell_type": "markdown",
   "metadata": {},
   "source": [
    "##### Customer data"
   ]
  },
  {
   "cell_type": "code",
   "execution_count": 401,
   "metadata": {},
   "outputs": [
    {
     "data": {
      "text/html": [
       "<div>\n",
       "<style scoped>\n",
       "    .dataframe tbody tr th:only-of-type {\n",
       "        vertical-align: middle;\n",
       "    }\n",
       "\n",
       "    .dataframe tbody tr th {\n",
       "        vertical-align: top;\n",
       "    }\n",
       "\n",
       "    .dataframe thead th {\n",
       "        text-align: right;\n",
       "    }\n",
       "</style>\n",
       "<table border=\"1\" class=\"dataframe\">\n",
       "  <thead>\n",
       "    <tr style=\"text-align: right;\">\n",
       "      <th></th>\n",
       "      <th>LNR</th>\n",
       "      <th>AGER_TYP</th>\n",
       "      <th>AKT_DAT_KL</th>\n",
       "      <th>ALTER_HH</th>\n",
       "      <th>ALTER_KIND1</th>\n",
       "      <th>ALTER_KIND2</th>\n",
       "      <th>ALTER_KIND3</th>\n",
       "      <th>ALTER_KIND4</th>\n",
       "      <th>ALTERSKATEGORIE_FEIN</th>\n",
       "      <th>ANZ_HAUSHALTE_AKTIV</th>\n",
       "      <th>...</th>\n",
       "      <th>VK_ZG11</th>\n",
       "      <th>W_KEIT_KIND_HH</th>\n",
       "      <th>WOHNDAUER_2008</th>\n",
       "      <th>WOHNLAGE</th>\n",
       "      <th>ZABEOTYP</th>\n",
       "      <th>PRODUCT_GROUP</th>\n",
       "      <th>CUSTOMER_GROUP</th>\n",
       "      <th>ONLINE_PURCHASE</th>\n",
       "      <th>ANREDE_KZ</th>\n",
       "      <th>ALTERSKATEGORIE_GROB</th>\n",
       "    </tr>\n",
       "  </thead>\n",
       "  <tbody>\n",
       "    <tr>\n",
       "      <th>159816</th>\n",
       "      <td>17567</td>\n",
       "      <td>2</td>\n",
       "      <td>1.0</td>\n",
       "      <td>0.0</td>\n",
       "      <td>8.0</td>\n",
       "      <td>11.0</td>\n",
       "      <td>NaN</td>\n",
       "      <td>NaN</td>\n",
       "      <td>8.0</td>\n",
       "      <td>1.0</td>\n",
       "      <td>...</td>\n",
       "      <td>1.0</td>\n",
       "      <td>1.0</td>\n",
       "      <td>9.0</td>\n",
       "      <td>7.0</td>\n",
       "      <td>4</td>\n",
       "      <td>COSMETIC_AND_FOOD</td>\n",
       "      <td>MULTI_BUYER</td>\n",
       "      <td>0</td>\n",
       "      <td>1</td>\n",
       "      <td>4</td>\n",
       "    </tr>\n",
       "    <tr>\n",
       "      <th>148697</th>\n",
       "      <td>190614</td>\n",
       "      <td>-1</td>\n",
       "      <td>NaN</td>\n",
       "      <td>NaN</td>\n",
       "      <td>NaN</td>\n",
       "      <td>NaN</td>\n",
       "      <td>NaN</td>\n",
       "      <td>NaN</td>\n",
       "      <td>NaN</td>\n",
       "      <td>NaN</td>\n",
       "      <td>...</td>\n",
       "      <td>NaN</td>\n",
       "      <td>NaN</td>\n",
       "      <td>NaN</td>\n",
       "      <td>NaN</td>\n",
       "      <td>3</td>\n",
       "      <td>COSMETIC</td>\n",
       "      <td>MULTI_BUYER</td>\n",
       "      <td>0</td>\n",
       "      <td>2</td>\n",
       "      <td>3</td>\n",
       "    </tr>\n",
       "    <tr>\n",
       "      <th>147293</th>\n",
       "      <td>142965</td>\n",
       "      <td>-1</td>\n",
       "      <td>1.0</td>\n",
       "      <td>15.0</td>\n",
       "      <td>15.0</td>\n",
       "      <td>17.0</td>\n",
       "      <td>NaN</td>\n",
       "      <td>NaN</td>\n",
       "      <td>0.0</td>\n",
       "      <td>1.0</td>\n",
       "      <td>...</td>\n",
       "      <td>2.0</td>\n",
       "      <td>1.0</td>\n",
       "      <td>9.0</td>\n",
       "      <td>2.0</td>\n",
       "      <td>1</td>\n",
       "      <td>FOOD</td>\n",
       "      <td>SINGLE_BUYER</td>\n",
       "      <td>0</td>\n",
       "      <td>1</td>\n",
       "      <td>4</td>\n",
       "    </tr>\n",
       "    <tr>\n",
       "      <th>86196</th>\n",
       "      <td>108216</td>\n",
       "      <td>2</td>\n",
       "      <td>1.0</td>\n",
       "      <td>10.0</td>\n",
       "      <td>NaN</td>\n",
       "      <td>NaN</td>\n",
       "      <td>NaN</td>\n",
       "      <td>NaN</td>\n",
       "      <td>10.0</td>\n",
       "      <td>1.0</td>\n",
       "      <td>...</td>\n",
       "      <td>2.0</td>\n",
       "      <td>6.0</td>\n",
       "      <td>9.0</td>\n",
       "      <td>3.0</td>\n",
       "      <td>3</td>\n",
       "      <td>COSMETIC</td>\n",
       "      <td>SINGLE_BUYER</td>\n",
       "      <td>0</td>\n",
       "      <td>2</td>\n",
       "      <td>4</td>\n",
       "    </tr>\n",
       "  </tbody>\n",
       "</table>\n",
       "<p>4 rows × 369 columns</p>\n",
       "</div>"
      ],
      "text/plain": [
       "           LNR  AGER_TYP  AKT_DAT_KL  ALTER_HH  ALTER_KIND1  ALTER_KIND2  \\\n",
       "159816   17567         2         1.0       0.0          8.0         11.0   \n",
       "148697  190614        -1         NaN       NaN          NaN          NaN   \n",
       "147293  142965        -1         1.0      15.0         15.0         17.0   \n",
       "86196   108216         2         1.0      10.0          NaN          NaN   \n",
       "\n",
       "        ALTER_KIND3  ALTER_KIND4  ALTERSKATEGORIE_FEIN  ANZ_HAUSHALTE_AKTIV  \\\n",
       "159816          NaN          NaN                   8.0                  1.0   \n",
       "148697          NaN          NaN                   NaN                  NaN   \n",
       "147293          NaN          NaN                   0.0                  1.0   \n",
       "86196           NaN          NaN                  10.0                  1.0   \n",
       "\n",
       "               ...           VK_ZG11  W_KEIT_KIND_HH  WOHNDAUER_2008  \\\n",
       "159816         ...               1.0             1.0             9.0   \n",
       "148697         ...               NaN             NaN             NaN   \n",
       "147293         ...               2.0             1.0             9.0   \n",
       "86196          ...               2.0             6.0             9.0   \n",
       "\n",
       "        WOHNLAGE  ZABEOTYP      PRODUCT_GROUP  CUSTOMER_GROUP ONLINE_PURCHASE  \\\n",
       "159816       7.0         4  COSMETIC_AND_FOOD     MULTI_BUYER               0   \n",
       "148697       NaN         3           COSMETIC     MULTI_BUYER               0   \n",
       "147293       2.0         1               FOOD    SINGLE_BUYER               0   \n",
       "86196        3.0         3           COSMETIC    SINGLE_BUYER               0   \n",
       "\n",
       "       ANREDE_KZ ALTERSKATEGORIE_GROB  \n",
       "159816         1                    4  \n",
       "148697         2                    3  \n",
       "147293         1                    4  \n",
       "86196          2                    4  \n",
       "\n",
       "[4 rows x 369 columns]"
      ]
     },
     "execution_count": 401,
     "metadata": {},
     "output_type": "execute_result"
    }
   ],
   "source": [
    "# let's have a view of data\n",
    "cust.head(4)"
   ]
  },
  {
   "cell_type": "code",
   "execution_count": 402,
   "metadata": {},
   "outputs": [
    {
     "data": {
      "text/html": [
       "<div>\n",
       "<style scoped>\n",
       "    .dataframe tbody tr th:only-of-type {\n",
       "        vertical-align: middle;\n",
       "    }\n",
       "\n",
       "    .dataframe tbody tr th {\n",
       "        vertical-align: top;\n",
       "    }\n",
       "\n",
       "    .dataframe thead th {\n",
       "        text-align: right;\n",
       "    }\n",
       "</style>\n",
       "<table border=\"1\" class=\"dataframe\">\n",
       "  <thead>\n",
       "    <tr style=\"text-align: right;\">\n",
       "      <th></th>\n",
       "      <th>LNR</th>\n",
       "      <th>AGER_TYP</th>\n",
       "      <th>AKT_DAT_KL</th>\n",
       "      <th>ALTER_HH</th>\n",
       "      <th>ALTER_KIND1</th>\n",
       "      <th>ALTER_KIND2</th>\n",
       "      <th>ALTER_KIND3</th>\n",
       "      <th>ALTER_KIND4</th>\n",
       "      <th>ALTERSKATEGORIE_FEIN</th>\n",
       "      <th>ANZ_HAUSHALTE_AKTIV</th>\n",
       "      <th>...</th>\n",
       "      <th>VK_DHT4A</th>\n",
       "      <th>VK_DISTANZ</th>\n",
       "      <th>VK_ZG11</th>\n",
       "      <th>W_KEIT_KIND_HH</th>\n",
       "      <th>WOHNDAUER_2008</th>\n",
       "      <th>WOHNLAGE</th>\n",
       "      <th>ZABEOTYP</th>\n",
       "      <th>ONLINE_PURCHASE</th>\n",
       "      <th>ANREDE_KZ</th>\n",
       "      <th>ALTERSKATEGORIE_GROB</th>\n",
       "    </tr>\n",
       "  </thead>\n",
       "  <tbody>\n",
       "    <tr>\n",
       "      <th>count</th>\n",
       "      <td>5000.000000</td>\n",
       "      <td>5000.000000</td>\n",
       "      <td>3795.000000</td>\n",
       "      <td>3795.000000</td>\n",
       "      <td>317.000000</td>\n",
       "      <td>139.000000</td>\n",
       "      <td>31.000000</td>\n",
       "      <td>6.000000</td>\n",
       "      <td>3646.000000</td>\n",
       "      <td>3712.000000</td>\n",
       "      <td>...</td>\n",
       "      <td>3764.000000</td>\n",
       "      <td>3764.000000</td>\n",
       "      <td>3764.000000</td>\n",
       "      <td>3600.000000</td>\n",
       "      <td>3795.000000</td>\n",
       "      <td>3712.000000</td>\n",
       "      <td>5000.00000</td>\n",
       "      <td>5000.00000</td>\n",
       "      <td>5000.000000</td>\n",
       "      <td>5000.00000</td>\n",
       "    </tr>\n",
       "    <tr>\n",
       "      <th>mean</th>\n",
       "      <td>97428.018600</td>\n",
       "      <td>0.348600</td>\n",
       "      <td>1.768116</td>\n",
       "      <td>11.330171</td>\n",
       "      <td>12.258675</td>\n",
       "      <td>13.690647</td>\n",
       "      <td>15.322581</td>\n",
       "      <td>17.333333</td>\n",
       "      <td>10.417992</td>\n",
       "      <td>4.839978</td>\n",
       "      <td>...</td>\n",
       "      <td>4.407811</td>\n",
       "      <td>4.573592</td>\n",
       "      <td>3.157014</td>\n",
       "      <td>4.159167</td>\n",
       "      <td>8.628986</td>\n",
       "      <td>3.778556</td>\n",
       "      <td>2.59240</td>\n",
       "      <td>0.09000</td>\n",
       "      <td>1.375200</td>\n",
       "      <td>3.06580</td>\n",
       "    </tr>\n",
       "    <tr>\n",
       "      <th>std</th>\n",
       "      <td>55629.238987</td>\n",
       "      <td>1.389483</td>\n",
       "      <td>2.014441</td>\n",
       "      <td>6.222616</td>\n",
       "      <td>4.005056</td>\n",
       "      <td>3.157345</td>\n",
       "      <td>2.357783</td>\n",
       "      <td>0.816497</td>\n",
       "      <td>4.027920</td>\n",
       "      <td>12.362953</td>\n",
       "      <td>...</td>\n",
       "      <td>2.923282</td>\n",
       "      <td>2.866533</td>\n",
       "      <td>2.181640</td>\n",
       "      <td>1.965088</td>\n",
       "      <td>1.168648</td>\n",
       "      <td>2.099516</td>\n",
       "      <td>1.17989</td>\n",
       "      <td>0.28621</td>\n",
       "      <td>0.484223</td>\n",
       "      <td>1.08559</td>\n",
       "    </tr>\n",
       "    <tr>\n",
       "      <th>min</th>\n",
       "      <td>11.000000</td>\n",
       "      <td>-1.000000</td>\n",
       "      <td>1.000000</td>\n",
       "      <td>0.000000</td>\n",
       "      <td>2.000000</td>\n",
       "      <td>6.000000</td>\n",
       "      <td>8.000000</td>\n",
       "      <td>16.000000</td>\n",
       "      <td>0.000000</td>\n",
       "      <td>0.000000</td>\n",
       "      <td>...</td>\n",
       "      <td>1.000000</td>\n",
       "      <td>1.000000</td>\n",
       "      <td>1.000000</td>\n",
       "      <td>0.000000</td>\n",
       "      <td>1.000000</td>\n",
       "      <td>0.000000</td>\n",
       "      <td>1.00000</td>\n",
       "      <td>0.00000</td>\n",
       "      <td>1.000000</td>\n",
       "      <td>1.00000</td>\n",
       "    </tr>\n",
       "    <tr>\n",
       "      <th>25%</th>\n",
       "      <td>48984.750000</td>\n",
       "      <td>-1.000000</td>\n",
       "      <td>1.000000</td>\n",
       "      <td>8.000000</td>\n",
       "      <td>9.000000</td>\n",
       "      <td>11.500000</td>\n",
       "      <td>15.000000</td>\n",
       "      <td>17.000000</td>\n",
       "      <td>9.000000</td>\n",
       "      <td>1.000000</td>\n",
       "      <td>...</td>\n",
       "      <td>2.000000</td>\n",
       "      <td>2.000000</td>\n",
       "      <td>1.000000</td>\n",
       "      <td>2.000000</td>\n",
       "      <td>9.000000</td>\n",
       "      <td>2.000000</td>\n",
       "      <td>1.00000</td>\n",
       "      <td>0.00000</td>\n",
       "      <td>1.000000</td>\n",
       "      <td>3.00000</td>\n",
       "    </tr>\n",
       "    <tr>\n",
       "      <th>50%</th>\n",
       "      <td>99124.500000</td>\n",
       "      <td>0.000000</td>\n",
       "      <td>1.000000</td>\n",
       "      <td>11.000000</td>\n",
       "      <td>13.000000</td>\n",
       "      <td>14.000000</td>\n",
       "      <td>15.000000</td>\n",
       "      <td>17.500000</td>\n",
       "      <td>10.000000</td>\n",
       "      <td>1.000000</td>\n",
       "      <td>...</td>\n",
       "      <td>4.000000</td>\n",
       "      <td>4.000000</td>\n",
       "      <td>3.000000</td>\n",
       "      <td>5.000000</td>\n",
       "      <td>9.000000</td>\n",
       "      <td>3.000000</td>\n",
       "      <td>3.00000</td>\n",
       "      <td>0.00000</td>\n",
       "      <td>1.000000</td>\n",
       "      <td>3.00000</td>\n",
       "    </tr>\n",
       "    <tr>\n",
       "      <th>75%</th>\n",
       "      <td>145917.750000</td>\n",
       "      <td>2.000000</td>\n",
       "      <td>1.000000</td>\n",
       "      <td>16.000000</td>\n",
       "      <td>16.000000</td>\n",
       "      <td>17.000000</td>\n",
       "      <td>17.500000</td>\n",
       "      <td>18.000000</td>\n",
       "      <td>13.000000</td>\n",
       "      <td>4.000000</td>\n",
       "      <td>...</td>\n",
       "      <td>7.000000</td>\n",
       "      <td>7.000000</td>\n",
       "      <td>4.000000</td>\n",
       "      <td>6.000000</td>\n",
       "      <td>9.000000</td>\n",
       "      <td>5.000000</td>\n",
       "      <td>3.00000</td>\n",
       "      <td>0.00000</td>\n",
       "      <td>2.000000</td>\n",
       "      <td>4.00000</td>\n",
       "    </tr>\n",
       "    <tr>\n",
       "      <th>max</th>\n",
       "      <td>191642.000000</td>\n",
       "      <td>3.000000</td>\n",
       "      <td>9.000000</td>\n",
       "      <td>21.000000</td>\n",
       "      <td>18.000000</td>\n",
       "      <td>18.000000</td>\n",
       "      <td>18.000000</td>\n",
       "      <td>18.000000</td>\n",
       "      <td>25.000000</td>\n",
       "      <td>321.000000</td>\n",
       "      <td>...</td>\n",
       "      <td>10.000000</td>\n",
       "      <td>13.000000</td>\n",
       "      <td>11.000000</td>\n",
       "      <td>6.000000</td>\n",
       "      <td>9.000000</td>\n",
       "      <td>8.000000</td>\n",
       "      <td>6.00000</td>\n",
       "      <td>1.00000</td>\n",
       "      <td>2.000000</td>\n",
       "      <td>9.00000</td>\n",
       "    </tr>\n",
       "  </tbody>\n",
       "</table>\n",
       "<p>8 rows × 361 columns</p>\n",
       "</div>"
      ],
      "text/plain": [
       "                 LNR     AGER_TYP   AKT_DAT_KL     ALTER_HH  ALTER_KIND1  \\\n",
       "count    5000.000000  5000.000000  3795.000000  3795.000000   317.000000   \n",
       "mean    97428.018600     0.348600     1.768116    11.330171    12.258675   \n",
       "std     55629.238987     1.389483     2.014441     6.222616     4.005056   \n",
       "min        11.000000    -1.000000     1.000000     0.000000     2.000000   \n",
       "25%     48984.750000    -1.000000     1.000000     8.000000     9.000000   \n",
       "50%     99124.500000     0.000000     1.000000    11.000000    13.000000   \n",
       "75%    145917.750000     2.000000     1.000000    16.000000    16.000000   \n",
       "max    191642.000000     3.000000     9.000000    21.000000    18.000000   \n",
       "\n",
       "       ALTER_KIND2  ALTER_KIND3  ALTER_KIND4  ALTERSKATEGORIE_FEIN  \\\n",
       "count   139.000000    31.000000     6.000000           3646.000000   \n",
       "mean     13.690647    15.322581    17.333333             10.417992   \n",
       "std       3.157345     2.357783     0.816497              4.027920   \n",
       "min       6.000000     8.000000    16.000000              0.000000   \n",
       "25%      11.500000    15.000000    17.000000              9.000000   \n",
       "50%      14.000000    15.000000    17.500000             10.000000   \n",
       "75%      17.000000    17.500000    18.000000             13.000000   \n",
       "max      18.000000    18.000000    18.000000             25.000000   \n",
       "\n",
       "       ANZ_HAUSHALTE_AKTIV          ...              VK_DHT4A   VK_DISTANZ  \\\n",
       "count          3712.000000          ...           3764.000000  3764.000000   \n",
       "mean              4.839978          ...              4.407811     4.573592   \n",
       "std              12.362953          ...              2.923282     2.866533   \n",
       "min               0.000000          ...              1.000000     1.000000   \n",
       "25%               1.000000          ...              2.000000     2.000000   \n",
       "50%               1.000000          ...              4.000000     4.000000   \n",
       "75%               4.000000          ...              7.000000     7.000000   \n",
       "max             321.000000          ...             10.000000    13.000000   \n",
       "\n",
       "           VK_ZG11  W_KEIT_KIND_HH  WOHNDAUER_2008     WOHNLAGE    ZABEOTYP  \\\n",
       "count  3764.000000     3600.000000     3795.000000  3712.000000  5000.00000   \n",
       "mean      3.157014        4.159167        8.628986     3.778556     2.59240   \n",
       "std       2.181640        1.965088        1.168648     2.099516     1.17989   \n",
       "min       1.000000        0.000000        1.000000     0.000000     1.00000   \n",
       "25%       1.000000        2.000000        9.000000     2.000000     1.00000   \n",
       "50%       3.000000        5.000000        9.000000     3.000000     3.00000   \n",
       "75%       4.000000        6.000000        9.000000     5.000000     3.00000   \n",
       "max      11.000000        6.000000        9.000000     8.000000     6.00000   \n",
       "\n",
       "       ONLINE_PURCHASE    ANREDE_KZ  ALTERSKATEGORIE_GROB  \n",
       "count       5000.00000  5000.000000            5000.00000  \n",
       "mean           0.09000     1.375200               3.06580  \n",
       "std            0.28621     0.484223               1.08559  \n",
       "min            0.00000     1.000000               1.00000  \n",
       "25%            0.00000     1.000000               3.00000  \n",
       "50%            0.00000     1.000000               3.00000  \n",
       "75%            0.00000     2.000000               4.00000  \n",
       "max            1.00000     2.000000               9.00000  \n",
       "\n",
       "[8 rows x 361 columns]"
      ]
     },
     "execution_count": 402,
     "metadata": {},
     "output_type": "execute_result"
    }
   ],
   "source": [
    "cust.describe()"
   ]
  },
  {
   "cell_type": "code",
   "execution_count": 403,
   "metadata": {},
   "outputs": [
    {
     "name": "stdout",
     "output_type": "stream",
     "text": [
      "Total of NAns values :  357441\n"
     ]
    },
    {
     "data": {
      "image/png": "[encoded data removed]",
      "text/plain": [
       "<matplotlib.figure.Figure at 0x7f5c7c3e3320>"
      ]
     },
     "metadata": {
      "needs_background": "light"
     },
     "output_type": "display_data"
    }
   ],
   "source": [
    "print(\"Total of NAns values : \",cust.isnull().sum().sum())\n",
    "fig, ax = plt.subplots(figsize=(16,6))\n",
    "ax = fig.add_axes([0,0,1,1])\n",
    "ax.bar(np.arange(len(cust.columns)), cust.isnull().sum());"
   ]
  },
  {
   "cell_type": "markdown",
   "metadata": {},
   "source": [
    "The analysis is the same as that carried out on the overall population."
   ]
  },
  {
   "cell_type": "code",
   "execution_count": 404,
   "metadata": {},
   "outputs": [
    {
     "data": {
      "text/plain": [
       "Index(['ALTER_KIND1', 'ALTER_KIND2', 'ALTER_KIND3', 'ALTER_KIND4', 'EXTSEL992',\n",
       "       'KK_KUNDENTYP'],\n",
       "      dtype='object')"
      ]
     },
     "execution_count": 404,
     "metadata": {},
     "output_type": "execute_result"
    }
   ],
   "source": [
    "# Lets see columns with more than 40% Nas\n",
    "mask_cust = (cust.isnull().sum()/cust.shape[0])>0.4\n",
    "cust.columns[mask_cust]"
   ]
  },
  {
   "cell_type": "markdown",
   "metadata": {},
   "source": [
    "These are the same columns as in the overall population. these columns can therefore be eliminated. Before clustering, we need to make sure that both dataframes (population and customer) contain exactly the same columns so that the resulting clusters are comparable."
   ]
  },
  {
   "cell_type": "code",
   "execution_count": 405,
   "metadata": {},
   "outputs": [
    {
     "name": "stdout",
     "output_type": "stream",
     "text": [
      "Index(['CUSTOMER_GROUP', 'ONLINE_PURCHASE', 'PRODUCT_GROUP'], dtype='object')\n"
     ]
    }
   ],
   "source": [
    "#lets see the difference between customer and population dataframes columns\n",
    "print(cust.columns.symmetric_difference(pop.columns))"
   ]
  },
  {
   "cell_type": "code",
   "execution_count": 406,
   "metadata": {},
   "outputs": [],
   "source": [
    "cust = cust[pop.columns]"
   ]
  },
  {
   "cell_type": "markdown",
   "metadata": {},
   "source": [
    "Let's delete the LNR variable that identifies each client in both dataframes."
   ]
  },
  {
   "cell_type": "code",
   "execution_count": 573,
   "metadata": {},
   "outputs": [],
   "source": [
    "cust = cust.drop('LNR',axis = 1)\n",
    "pop = pop.drop('LNR',axis=1)"
   ]
  },
  {
   "cell_type": "markdown",
   "metadata": {},
   "source": [
    "##### Description data"
   ]
  },
  {
   "cell_type": "code",
   "execution_count": 407,
   "metadata": {},
   "outputs": [
    {
     "data": {
      "text/html": [
       "<div>\n",
       "<style scoped>\n",
       "    .dataframe tbody tr th:only-of-type {\n",
       "        vertical-align: middle;\n",
       "    }\n",
       "\n",
       "    .dataframe tbody tr th {\n",
       "        vertical-align: top;\n",
       "    }\n",
       "\n",
       "    .dataframe thead th {\n",
       "        text-align: right;\n",
       "    }\n",
       "</style>\n",
       "<table border=\"1\" class=\"dataframe\">\n",
       "  <thead>\n",
       "    <tr style=\"text-align: right;\">\n",
       "      <th></th>\n",
       "      <th>Attribute</th>\n",
       "      <th>Description</th>\n",
       "      <th>Value</th>\n",
       "      <th>Meaning</th>\n",
       "    </tr>\n",
       "  </thead>\n",
       "  <tbody>\n",
       "    <tr>\n",
       "      <th>NaN</th>\n",
       "      <td>AGER_TYP</td>\n",
       "      <td>best-ager typology</td>\n",
       "      <td>-1</td>\n",
       "      <td>unknown</td>\n",
       "    </tr>\n",
       "    <tr>\n",
       "      <th>NaN</th>\n",
       "      <td>NaN</td>\n",
       "      <td>NaN</td>\n",
       "      <td>0</td>\n",
       "      <td>no classification possible</td>\n",
       "    </tr>\n",
       "    <tr>\n",
       "      <th>NaN</th>\n",
       "      <td>NaN</td>\n",
       "      <td>NaN</td>\n",
       "      <td>1</td>\n",
       "      <td>passive elderly</td>\n",
       "    </tr>\n",
       "    <tr>\n",
       "      <th>NaN</th>\n",
       "      <td>NaN</td>\n",
       "      <td>NaN</td>\n",
       "      <td>2</td>\n",
       "      <td>cultural elderly</td>\n",
       "    </tr>\n",
       "    <tr>\n",
       "      <th>NaN</th>\n",
       "      <td>NaN</td>\n",
       "      <td>NaN</td>\n",
       "      <td>3</td>\n",
       "      <td>experience-driven elderly</td>\n",
       "    </tr>\n",
       "  </tbody>\n",
       "</table>\n",
       "</div>"
      ],
      "text/plain": [
       "    Attribute         Description Value                     Meaning\n",
       "NaN  AGER_TYP  best-ager typology    -1                     unknown\n",
       "NaN       NaN                 NaN     0  no classification possible\n",
       "NaN       NaN                 NaN     1             passive elderly\n",
       "NaN       NaN                 NaN     2            cultural elderly\n",
       "NaN       NaN                 NaN     3   experience-driven elderly"
      ]
     },
     "execution_count": 407,
     "metadata": {},
     "output_type": "execute_result"
    }
   ],
   "source": [
    "description.head(5)"
   ]
  },
  {
   "cell_type": "markdown",
   "metadata": {},
   "source": [
    "It appears that some missing data has been encoded in specific values (-1 for example) for some columns. We need to identify these values and replace them with Nas."
   ]
  },
  {
   "cell_type": "code",
   "execution_count": 408,
   "metadata": {},
   "outputs": [
    {
     "data": {
      "text/html": [
       "<div>\n",
       "<style scoped>\n",
       "    .dataframe tbody tr th:only-of-type {\n",
       "        vertical-align: middle;\n",
       "    }\n",
       "\n",
       "    .dataframe tbody tr th {\n",
       "        vertical-align: top;\n",
       "    }\n",
       "\n",
       "    .dataframe thead th {\n",
       "        text-align: right;\n",
       "    }\n",
       "</style>\n",
       "<table border=\"1\" class=\"dataframe\">\n",
       "  <thead>\n",
       "    <tr style=\"text-align: right;\">\n",
       "      <th></th>\n",
       "      <th>Attribute</th>\n",
       "      <th>Description</th>\n",
       "      <th>Value</th>\n",
       "      <th>Meaning</th>\n",
       "    </tr>\n",
       "  </thead>\n",
       "  <tbody>\n",
       "    <tr>\n",
       "      <th>NaN</th>\n",
       "      <td>AGER_TYP</td>\n",
       "      <td>best-ager typology</td>\n",
       "      <td>-1</td>\n",
       "      <td>unknown</td>\n",
       "    </tr>\n",
       "    <tr>\n",
       "      <th>NaN</th>\n",
       "      <td>ALTERSKATEGORIE_GROB</td>\n",
       "      <td>age classification through prename analysis</td>\n",
       "      <td>-1, 0</td>\n",
       "      <td>unknown</td>\n",
       "    </tr>\n",
       "    <tr>\n",
       "      <th>NaN</th>\n",
       "      <td>ALTER_HH</td>\n",
       "      <td>main age within the household</td>\n",
       "      <td>0</td>\n",
       "      <td>unknown / no main age detectable</td>\n",
       "    </tr>\n",
       "    <tr>\n",
       "      <th>NaN</th>\n",
       "      <td>ANREDE_KZ</td>\n",
       "      <td>gender</td>\n",
       "      <td>-1, 0</td>\n",
       "      <td>unknown</td>\n",
       "    </tr>\n",
       "    <tr>\n",
       "      <th>NaN</th>\n",
       "      <td>BALLRAUM</td>\n",
       "      <td>distance to next urban centre</td>\n",
       "      <td>-1</td>\n",
       "      <td>unknown</td>\n",
       "    </tr>\n",
       "    <tr>\n",
       "      <th>NaN</th>\n",
       "      <td>BIP_FLAG</td>\n",
       "      <td>business-flag indicating companies in the buil...</td>\n",
       "      <td>-1</td>\n",
       "      <td>unknown</td>\n",
       "    </tr>\n",
       "    <tr>\n",
       "      <th>NaN</th>\n",
       "      <td>CAMEO_DEUG_2015</td>\n",
       "      <td>CAMEO classification 2015 - Uppergroup</td>\n",
       "      <td>-1</td>\n",
       "      <td>unknown</td>\n",
       "    </tr>\n",
       "    <tr>\n",
       "      <th>NaN</th>\n",
       "      <td>CAMEO_DEUINTL_2015</td>\n",
       "      <td>CAMEO classification 2015 - international typo...</td>\n",
       "      <td>-1</td>\n",
       "      <td>unknown</td>\n",
       "    </tr>\n",
       "    <tr>\n",
       "      <th>NaN</th>\n",
       "      <td>CJT_GESAMTTYP</td>\n",
       "      <td>customer journey typology</td>\n",
       "      <td>0</td>\n",
       "      <td>unknown</td>\n",
       "    </tr>\n",
       "    <tr>\n",
       "      <th>NaN</th>\n",
       "      <td>D19_BANKEN_ANZ_12</td>\n",
       "      <td>transaction activity BANKS in the last 12 months</td>\n",
       "      <td>0</td>\n",
       "      <td>no transactions known</td>\n",
       "    </tr>\n",
       "    <tr>\n",
       "      <th>NaN</th>\n",
       "      <td>D19_BANKEN_ANZ_24</td>\n",
       "      <td>transaction activity BANKS in the last 24 months</td>\n",
       "      <td>0</td>\n",
       "      <td>no transactions known</td>\n",
       "    </tr>\n",
       "    <tr>\n",
       "      <th>NaN</th>\n",
       "      <td>NaN</td>\n",
       "      <td>NaN</td>\n",
       "      <td>10</td>\n",
       "      <td>no transactions known</td>\n",
       "    </tr>\n",
       "    <tr>\n",
       "      <th>NaN</th>\n",
       "      <td>D19_BANKEN_DIREKT_RZ</td>\n",
       "      <td>transactional activity based on the product gr...</td>\n",
       "      <td>0</td>\n",
       "      <td>no transaction known</td>\n",
       "    </tr>\n",
       "    <tr>\n",
       "      <th>NaN</th>\n",
       "      <td>D19_BANKEN_GROSS_RZ</td>\n",
       "      <td>transactional activity based on the product gr...</td>\n",
       "      <td>0</td>\n",
       "      <td>no transaction known</td>\n",
       "    </tr>\n",
       "    <tr>\n",
       "      <th>NaN</th>\n",
       "      <td>D19_BANKEN_LOKAL_RZ</td>\n",
       "      <td>transactional activity based on the product gr...</td>\n",
       "      <td>0</td>\n",
       "      <td>no transaction known</td>\n",
       "    </tr>\n",
       "    <tr>\n",
       "      <th>NaN</th>\n",
       "      <td>NaN</td>\n",
       "      <td>NaN</td>\n",
       "      <td>10</td>\n",
       "      <td>no transactions known</td>\n",
       "    </tr>\n",
       "    <tr>\n",
       "      <th>NaN</th>\n",
       "      <td>NaN</td>\n",
       "      <td>NaN</td>\n",
       "      <td>10</td>\n",
       "      <td>no transactions known</td>\n",
       "    </tr>\n",
       "    <tr>\n",
       "      <th>NaN</th>\n",
       "      <td>D19_BANKEN_REST_RZ</td>\n",
       "      <td>transactional activity based on the product gr...</td>\n",
       "      <td>0</td>\n",
       "      <td>no transaction known</td>\n",
       "    </tr>\n",
       "    <tr>\n",
       "      <th>NaN</th>\n",
       "      <td>D19_BEKLEIDUNG_GEH_RZ</td>\n",
       "      <td>transactional activity based on the product gr...</td>\n",
       "      <td>0</td>\n",
       "      <td>no transaction known</td>\n",
       "    </tr>\n",
       "    <tr>\n",
       "      <th>NaN</th>\n",
       "      <td>D19_BEKLEIDUNG_REST_RZ</td>\n",
       "      <td>transactional activity based on the product gr...</td>\n",
       "      <td>0</td>\n",
       "      <td>no transaction known</td>\n",
       "    </tr>\n",
       "    <tr>\n",
       "      <th>NaN</th>\n",
       "      <td>D19_BILDUNG_RZ</td>\n",
       "      <td>transactional activity based on the product gr...</td>\n",
       "      <td>0</td>\n",
       "      <td>no transaction known</td>\n",
       "    </tr>\n",
       "    <tr>\n",
       "      <th>NaN</th>\n",
       "      <td>D19_BIO_OEKO_RZ</td>\n",
       "      <td>transactional activity based on the product gr...</td>\n",
       "      <td>0</td>\n",
       "      <td>no transaction known</td>\n",
       "    </tr>\n",
       "    <tr>\n",
       "      <th>NaN</th>\n",
       "      <td>D19_BUCH_RZ</td>\n",
       "      <td>transactional activity based on the product gr...</td>\n",
       "      <td>0</td>\n",
       "      <td>no transaction known</td>\n",
       "    </tr>\n",
       "    <tr>\n",
       "      <th>NaN</th>\n",
       "      <td>D19_DIGIT_SERV_RZ</td>\n",
       "      <td>transactional activity based on the product gr...</td>\n",
       "      <td>0</td>\n",
       "      <td>no transaction known</td>\n",
       "    </tr>\n",
       "    <tr>\n",
       "      <th>NaN</th>\n",
       "      <td>D19_DROGERIEARTIKEL_RZ</td>\n",
       "      <td>transactional activity based on the product gr...</td>\n",
       "      <td>0</td>\n",
       "      <td>no transaction known</td>\n",
       "    </tr>\n",
       "    <tr>\n",
       "      <th>NaN</th>\n",
       "      <td>D19_ENERGIE_RZ</td>\n",
       "      <td>transactional activity based on the product gr...</td>\n",
       "      <td>0</td>\n",
       "      <td>no transaction known</td>\n",
       "    </tr>\n",
       "    <tr>\n",
       "      <th>NaN</th>\n",
       "      <td>D19_FREIZEIT_RZ</td>\n",
       "      <td>transactional activity based on the product gr...</td>\n",
       "      <td>0</td>\n",
       "      <td>no transaction known</td>\n",
       "    </tr>\n",
       "    <tr>\n",
       "      <th>NaN</th>\n",
       "      <td>D19_GARTEN_RZ</td>\n",
       "      <td>transactional activity based on the product gr...</td>\n",
       "      <td>0</td>\n",
       "      <td>no transaction known</td>\n",
       "    </tr>\n",
       "    <tr>\n",
       "      <th>NaN</th>\n",
       "      <td>D19_GESAMT_ANZ_12</td>\n",
       "      <td>transaction activity TOTAL POOL in the last 12...</td>\n",
       "      <td>0</td>\n",
       "      <td>no transactions known</td>\n",
       "    </tr>\n",
       "    <tr>\n",
       "      <th>NaN</th>\n",
       "      <td>D19_GESAMT_ANZ_24</td>\n",
       "      <td>transaction activity TOTAL POOL in the last 24...</td>\n",
       "      <td>0</td>\n",
       "      <td>no transactions known</td>\n",
       "    </tr>\n",
       "    <tr>\n",
       "      <th>...</th>\n",
       "      <td>...</td>\n",
       "      <td>...</td>\n",
       "      <td>...</td>\n",
       "      <td>...</td>\n",
       "    </tr>\n",
       "    <tr>\n",
       "      <th>NaN</th>\n",
       "      <td>PLZ8_ANTG4</td>\n",
       "      <td>number of &gt;10 family houses in the PLZ8</td>\n",
       "      <td>-1</td>\n",
       "      <td>unknown</td>\n",
       "    </tr>\n",
       "    <tr>\n",
       "      <th>NaN</th>\n",
       "      <td>PLZ8_GBZ</td>\n",
       "      <td>number of buildings within the PLZ8</td>\n",
       "      <td>-1</td>\n",
       "      <td>unknown</td>\n",
       "    </tr>\n",
       "    <tr>\n",
       "      <th>NaN</th>\n",
       "      <td>PLZ8_HHZ</td>\n",
       "      <td>number of households within the PLZ8</td>\n",
       "      <td>-1</td>\n",
       "      <td>unknown</td>\n",
       "    </tr>\n",
       "    <tr>\n",
       "      <th>NaN</th>\n",
       "      <td>PRAEGENDE_JUGENDJAHRE</td>\n",
       "      <td>dominating movement in the person's youth (ava...</td>\n",
       "      <td>-1, 0</td>\n",
       "      <td>unknown</td>\n",
       "    </tr>\n",
       "    <tr>\n",
       "      <th>NaN</th>\n",
       "      <td>REGIOTYP</td>\n",
       "      <td>neighbourhood</td>\n",
       "      <td>-1, 0</td>\n",
       "      <td>unknown</td>\n",
       "    </tr>\n",
       "    <tr>\n",
       "      <th>NaN</th>\n",
       "      <td>NaN</td>\n",
       "      <td>NaN</td>\n",
       "      <td>-1, 9</td>\n",
       "      <td>unknown</td>\n",
       "    </tr>\n",
       "    <tr>\n",
       "      <th>NaN</th>\n",
       "      <td>RETOURTYP_BK_S</td>\n",
       "      <td>return type</td>\n",
       "      <td>0</td>\n",
       "      <td>unknown</td>\n",
       "    </tr>\n",
       "    <tr>\n",
       "      <th>NaN</th>\n",
       "      <td>SEMIO_DOM</td>\n",
       "      <td>affinity indicating in what way the person is ...</td>\n",
       "      <td>-1, 9</td>\n",
       "      <td>unknown</td>\n",
       "    </tr>\n",
       "    <tr>\n",
       "      <th>NaN</th>\n",
       "      <td>SEMIO_ERL</td>\n",
       "      <td>affinity indicating in what way the person is ...</td>\n",
       "      <td>-1, 9</td>\n",
       "      <td>unknown</td>\n",
       "    </tr>\n",
       "    <tr>\n",
       "      <th>NaN</th>\n",
       "      <td>SEMIO_FAM</td>\n",
       "      <td>affinity indicating in what way the person is ...</td>\n",
       "      <td>-1, 9</td>\n",
       "      <td>unknown</td>\n",
       "    </tr>\n",
       "    <tr>\n",
       "      <th>NaN</th>\n",
       "      <td>SEMIO_KAEM</td>\n",
       "      <td>affinity indicating in what way the person is ...</td>\n",
       "      <td>-1, 9</td>\n",
       "      <td>unknown</td>\n",
       "    </tr>\n",
       "    <tr>\n",
       "      <th>NaN</th>\n",
       "      <td>SEMIO_KRIT</td>\n",
       "      <td>affinity indicating in what way the person is ...</td>\n",
       "      <td>-1, 9</td>\n",
       "      <td>unknown</td>\n",
       "    </tr>\n",
       "    <tr>\n",
       "      <th>NaN</th>\n",
       "      <td>SEMIO_KULT</td>\n",
       "      <td>affinity indicating in what way the person is ...</td>\n",
       "      <td>-1, 9</td>\n",
       "      <td>unknown</td>\n",
       "    </tr>\n",
       "    <tr>\n",
       "      <th>NaN</th>\n",
       "      <td>SEMIO_LUST</td>\n",
       "      <td>affinity indicating in what way the person is ...</td>\n",
       "      <td>-1, 9</td>\n",
       "      <td>unknown</td>\n",
       "    </tr>\n",
       "    <tr>\n",
       "      <th>NaN</th>\n",
       "      <td>SEMIO_MAT</td>\n",
       "      <td>affinity indicating in what way the person is ...</td>\n",
       "      <td>-1, 9</td>\n",
       "      <td>unknown</td>\n",
       "    </tr>\n",
       "    <tr>\n",
       "      <th>NaN</th>\n",
       "      <td>SEMIO_PFLICHT</td>\n",
       "      <td>affinity indicating in what way the person is ...</td>\n",
       "      <td>-1, 9</td>\n",
       "      <td>unknown</td>\n",
       "    </tr>\n",
       "    <tr>\n",
       "      <th>NaN</th>\n",
       "      <td>SEMIO_RAT</td>\n",
       "      <td>affinity indicating in what way the person is ...</td>\n",
       "      <td>-1, 9</td>\n",
       "      <td>unknown</td>\n",
       "    </tr>\n",
       "    <tr>\n",
       "      <th>NaN</th>\n",
       "      <td>SEMIO_REL</td>\n",
       "      <td>affinity indicating in what way the person is ...</td>\n",
       "      <td>-1, 9</td>\n",
       "      <td>unknown</td>\n",
       "    </tr>\n",
       "    <tr>\n",
       "      <th>NaN</th>\n",
       "      <td>SEMIO_SOZ</td>\n",
       "      <td>affinity indicating in what way the person is ...</td>\n",
       "      <td>-1, 9</td>\n",
       "      <td>unknown</td>\n",
       "    </tr>\n",
       "    <tr>\n",
       "      <th>NaN</th>\n",
       "      <td>SEMIO_TRADV</td>\n",
       "      <td>affinity indicating in what way the person is ...</td>\n",
       "      <td>-1, 9</td>\n",
       "      <td>unknown</td>\n",
       "    </tr>\n",
       "    <tr>\n",
       "      <th>NaN</th>\n",
       "      <td>SEMIO_VERT</td>\n",
       "      <td>affinity indicating in what way the person is ...</td>\n",
       "      <td>-1, 9</td>\n",
       "      <td>unknown</td>\n",
       "    </tr>\n",
       "    <tr>\n",
       "      <th>NaN</th>\n",
       "      <td>SHOPPER_TYP</td>\n",
       "      <td>shopping typology</td>\n",
       "      <td>-1</td>\n",
       "      <td>unknown</td>\n",
       "    </tr>\n",
       "    <tr>\n",
       "      <th>NaN</th>\n",
       "      <td>SOHO_FLAG</td>\n",
       "      <td>small office/home office flag</td>\n",
       "      <td>-1</td>\n",
       "      <td>unknown</td>\n",
       "    </tr>\n",
       "    <tr>\n",
       "      <th>NaN</th>\n",
       "      <td>TITEL_KZ</td>\n",
       "      <td>flag whether this person holds an academic title</td>\n",
       "      <td>-1, 0</td>\n",
       "      <td>unknown</td>\n",
       "    </tr>\n",
       "    <tr>\n",
       "      <th>NaN</th>\n",
       "      <td>VERS_TYP</td>\n",
       "      <td>insurance typology</td>\n",
       "      <td>-1</td>\n",
       "      <td>unknown</td>\n",
       "    </tr>\n",
       "    <tr>\n",
       "      <th>NaN</th>\n",
       "      <td>WOHNDAUER_2008</td>\n",
       "      <td>length of residence</td>\n",
       "      <td>-1, 0</td>\n",
       "      <td>unknown</td>\n",
       "    </tr>\n",
       "    <tr>\n",
       "      <th>NaN</th>\n",
       "      <td>WOHNLAGE</td>\n",
       "      <td>residential-area</td>\n",
       "      <td>-1</td>\n",
       "      <td>unknown</td>\n",
       "    </tr>\n",
       "    <tr>\n",
       "      <th>NaN</th>\n",
       "      <td>WACHSTUMSGEBIET_NB</td>\n",
       "      <td>growing area (population growth in the last 5 ...</td>\n",
       "      <td>-1, 0</td>\n",
       "      <td>unknown</td>\n",
       "    </tr>\n",
       "    <tr>\n",
       "      <th>NaN</th>\n",
       "      <td>W_KEIT_KIND_HH</td>\n",
       "      <td>likelihood of a child present in this household</td>\n",
       "      <td>-1, 0</td>\n",
       "      <td>unknown</td>\n",
       "    </tr>\n",
       "    <tr>\n",
       "      <th>NaN</th>\n",
       "      <td>ZABEOTYP</td>\n",
       "      <td>typification of energy consumers</td>\n",
       "      <td>-1, 9</td>\n",
       "      <td>unknown</td>\n",
       "    </tr>\n",
       "  </tbody>\n",
       "</table>\n",
       "<p>294 rows × 4 columns</p>\n",
       "</div>"
      ],
      "text/plain": [
       "                  Attribute  \\\n",
       "NaN                AGER_TYP   \n",
       "NaN    ALTERSKATEGORIE_GROB   \n",
       "NaN                ALTER_HH   \n",
       "NaN               ANREDE_KZ   \n",
       "NaN                BALLRAUM   \n",
       "NaN                BIP_FLAG   \n",
       "NaN         CAMEO_DEUG_2015   \n",
       "NaN      CAMEO_DEUINTL_2015   \n",
       "NaN           CJT_GESAMTTYP   \n",
       "NaN       D19_BANKEN_ANZ_12   \n",
       "NaN       D19_BANKEN_ANZ_24   \n",
       "NaN                     NaN   \n",
       "NaN    D19_BANKEN_DIREKT_RZ   \n",
       "NaN     D19_BANKEN_GROSS_RZ   \n",
       "NaN     D19_BANKEN_LOKAL_RZ   \n",
       "NaN                     NaN   \n",
       "NaN                     NaN   \n",
       "NaN      D19_BANKEN_REST_RZ   \n",
       "NaN   D19_BEKLEIDUNG_GEH_RZ   \n",
       "NaN  D19_BEKLEIDUNG_REST_RZ   \n",
       "NaN          D19_BILDUNG_RZ   \n",
       "NaN         D19_BIO_OEKO_RZ   \n",
       "NaN             D19_BUCH_RZ   \n",
       "NaN       D19_DIGIT_SERV_RZ   \n",
       "NaN  D19_DROGERIEARTIKEL_RZ   \n",
       "NaN          D19_ENERGIE_RZ   \n",
       "NaN         D19_FREIZEIT_RZ   \n",
       "NaN           D19_GARTEN_RZ   \n",
       "NaN       D19_GESAMT_ANZ_12   \n",
       "NaN       D19_GESAMT_ANZ_24   \n",
       "..                      ...   \n",
       "NaN              PLZ8_ANTG4   \n",
       "NaN                PLZ8_GBZ   \n",
       "NaN                PLZ8_HHZ   \n",
       "NaN   PRAEGENDE_JUGENDJAHRE   \n",
       "NaN                REGIOTYP   \n",
       "NaN                     NaN   \n",
       "NaN          RETOURTYP_BK_S   \n",
       "NaN               SEMIO_DOM   \n",
       "NaN               SEMIO_ERL   \n",
       "NaN               SEMIO_FAM   \n",
       "NaN              SEMIO_KAEM   \n",
       "NaN              SEMIO_KRIT   \n",
       "NaN              SEMIO_KULT   \n",
       "NaN              SEMIO_LUST   \n",
       "NaN               SEMIO_MAT   \n",
       "NaN           SEMIO_PFLICHT   \n",
       "NaN               SEMIO_RAT   \n",
       "NaN               SEMIO_REL   \n",
       "NaN               SEMIO_SOZ   \n",
       "NaN             SEMIO_TRADV   \n",
       "NaN              SEMIO_VERT   \n",
       "NaN             SHOPPER_TYP   \n",
       "NaN               SOHO_FLAG   \n",
       "NaN                TITEL_KZ   \n",
       "NaN                VERS_TYP   \n",
       "NaN          WOHNDAUER_2008   \n",
       "NaN                WOHNLAGE   \n",
       "NaN      WACHSTUMSGEBIET_NB   \n",
       "NaN          W_KEIT_KIND_HH   \n",
       "NaN                ZABEOTYP   \n",
       "\n",
       "                                           Description  Value  \\\n",
       "NaN                                 best-ager typology     -1   \n",
       "NaN       age classification through prename analysis   -1, 0   \n",
       "NaN                      main age within the household      0   \n",
       "NaN                                             gender  -1, 0   \n",
       "NaN                     distance to next urban centre      -1   \n",
       "NaN  business-flag indicating companies in the buil...     -1   \n",
       "NaN             CAMEO classification 2015 - Uppergroup     -1   \n",
       "NaN  CAMEO classification 2015 - international typo...     -1   \n",
       "NaN                          customer journey typology      0   \n",
       "NaN   transaction activity BANKS in the last 12 months      0   \n",
       "NaN   transaction activity BANKS in the last 24 months      0   \n",
       "NaN                                                NaN     10   \n",
       "NaN  transactional activity based on the product gr...      0   \n",
       "NaN  transactional activity based on the product gr...      0   \n",
       "NaN  transactional activity based on the product gr...      0   \n",
       "NaN                                                NaN     10   \n",
       "NaN                                                NaN     10   \n",
       "NaN  transactional activity based on the product gr...      0   \n",
       "NaN  transactional activity based on the product gr...      0   \n",
       "NaN  transactional activity based on the product gr...      0   \n",
       "NaN  transactional activity based on the product gr...      0   \n",
       "NaN  transactional activity based on the product gr...      0   \n",
       "NaN  transactional activity based on the product gr...      0   \n",
       "NaN  transactional activity based on the product gr...      0   \n",
       "NaN  transactional activity based on the product gr...      0   \n",
       "NaN  transactional activity based on the product gr...      0   \n",
       "NaN  transactional activity based on the product gr...      0   \n",
       "NaN  transactional activity based on the product gr...      0   \n",
       "NaN  transaction activity TOTAL POOL in the last 12...      0   \n",
       "NaN  transaction activity TOTAL POOL in the last 24...      0   \n",
       "..                                                 ...    ...   \n",
       "NaN            number of >10 family houses in the PLZ8     -1   \n",
       "NaN                number of buildings within the PLZ8     -1   \n",
       "NaN               number of households within the PLZ8     -1   \n",
       "NaN  dominating movement in the person's youth (ava...  -1, 0   \n",
       "NaN                                     neighbourhood   -1, 0   \n",
       "NaN                                                NaN  -1, 9   \n",
       "NaN                                        return type      0   \n",
       "NaN  affinity indicating in what way the person is ...  -1, 9   \n",
       "NaN  affinity indicating in what way the person is ...  -1, 9   \n",
       "NaN  affinity indicating in what way the person is ...  -1, 9   \n",
       "NaN  affinity indicating in what way the person is ...  -1, 9   \n",
       "NaN  affinity indicating in what way the person is ...  -1, 9   \n",
       "NaN  affinity indicating in what way the person is ...  -1, 9   \n",
       "NaN  affinity indicating in what way the person is ...  -1, 9   \n",
       "NaN  affinity indicating in what way the person is ...  -1, 9   \n",
       "NaN  affinity indicating in what way the person is ...  -1, 9   \n",
       "NaN  affinity indicating in what way the person is ...  -1, 9   \n",
       "NaN  affinity indicating in what way the person is ...  -1, 9   \n",
       "NaN  affinity indicating in what way the person is ...  -1, 9   \n",
       "NaN  affinity indicating in what way the person is ...  -1, 9   \n",
       "NaN  affinity indicating in what way the person is ...  -1, 9   \n",
       "NaN                                  shopping typology     -1   \n",
       "NaN                      small office/home office flag     -1   \n",
       "NaN   flag whether this person holds an academic title  -1, 0   \n",
       "NaN                                insurance typology      -1   \n",
       "NaN                                length of residence  -1, 0   \n",
       "NaN                                  residential-area      -1   \n",
       "NaN  growing area (population growth in the last 5 ...  -1, 0   \n",
       "NaN    likelihood of a child present in this household  -1, 0   \n",
       "NaN                   typification of energy consumers  -1, 9   \n",
       "\n",
       "                              Meaning  \n",
       "NaN                           unknown  \n",
       "NaN                           unknown  \n",
       "NaN  unknown / no main age detectable  \n",
       "NaN                           unknown  \n",
       "NaN                           unknown  \n",
       "NaN                           unknown  \n",
       "NaN                           unknown  \n",
       "NaN                           unknown  \n",
       "NaN                           unknown  \n",
       "NaN             no transactions known  \n",
       "NaN             no transactions known  \n",
       "NaN             no transactions known  \n",
       "NaN              no transaction known  \n",
       "NaN              no transaction known  \n",
       "NaN              no transaction known  \n",
       "NaN             no transactions known  \n",
       "NaN             no transactions known  \n",
       "NaN              no transaction known  \n",
       "NaN              no transaction known  \n",
       "NaN              no transaction known  \n",
       "NaN              no transaction known  \n",
       "NaN              no transaction known  \n",
       "NaN              no transaction known  \n",
       "NaN              no transaction known  \n",
       "NaN              no transaction known  \n",
       "NaN              no transaction known  \n",
       "NaN              no transaction known  \n",
       "NaN              no transaction known  \n",
       "NaN             no transactions known  \n",
       "NaN             no transactions known  \n",
       "..                                ...  \n",
       "NaN                           unknown  \n",
       "NaN                           unknown  \n",
       "NaN                           unknown  \n",
       "NaN                           unknown  \n",
       "NaN                           unknown  \n",
       "NaN                           unknown  \n",
       "NaN                           unknown  \n",
       "NaN                           unknown  \n",
       "NaN                           unknown  \n",
       "NaN                           unknown  \n",
       "NaN                           unknown  \n",
       "NaN                           unknown  \n",
       "NaN                           unknown  \n",
       "NaN                           unknown  \n",
       "NaN                           unknown  \n",
       "NaN                           unknown  \n",
       "NaN                           unknown  \n",
       "NaN                           unknown  \n",
       "NaN                           unknown  \n",
       "NaN                           unknown  \n",
       "NaN                           unknown  \n",
       "NaN                           unknown  \n",
       "NaN                           unknown  \n",
       "NaN                           unknown  \n",
       "NaN                           unknown  \n",
       "NaN                           unknown  \n",
       "NaN                           unknown  \n",
       "NaN                           unknown  \n",
       "NaN                           unknown  \n",
       "NaN                           unknown  \n",
       "\n",
       "[294 rows x 4 columns]"
      ]
     },
     "execution_count": 408,
     "metadata": {},
     "output_type": "execute_result"
    }
   ],
   "source": [
    "# let's find theses values\n",
    "# we have -1, 0, and 9 and 10. But we have to make some treatment to get the right value and the right column.\n",
    "description[description.Meaning.str.contains('know',na=False)]#,na=False)"
   ]
  },
  {
   "cell_type": "code",
   "execution_count": 409,
   "metadata": {},
   "outputs": [],
   "source": [
    "# We will not use the column \"description\". let's delete it.\n",
    "# We will also remove all the rows containing NAN to keep only the one identified as \"missing or unknown data\".\n",
    "description= description[['Attribute','Value','Meaning']]\n",
    "description=description[description.Attribute.notna()].reset_index(drop=True)"
   ]
  },
  {
   "cell_type": "code",
   "execution_count": 410,
   "metadata": {},
   "outputs": [
    {
     "data": {
      "text/html": [
       "<div>\n",
       "<style scoped>\n",
       "    .dataframe tbody tr th:only-of-type {\n",
       "        vertical-align: middle;\n",
       "    }\n",
       "\n",
       "    .dataframe tbody tr th {\n",
       "        vertical-align: top;\n",
       "    }\n",
       "\n",
       "    .dataframe thead th {\n",
       "        text-align: right;\n",
       "    }\n",
       "</style>\n",
       "<table border=\"1\" class=\"dataframe\">\n",
       "  <thead>\n",
       "    <tr style=\"text-align: right;\">\n",
       "      <th></th>\n",
       "      <th>Attribute</th>\n",
       "      <th>Value</th>\n",
       "      <th>Meaning</th>\n",
       "    </tr>\n",
       "  </thead>\n",
       "  <tbody>\n",
       "    <tr>\n",
       "      <th>0</th>\n",
       "      <td>AGER_TYP</td>\n",
       "      <td>-1</td>\n",
       "      <td>unknown</td>\n",
       "    </tr>\n",
       "    <tr>\n",
       "      <th>1</th>\n",
       "      <td>ALTERSKATEGORIE_GROB</td>\n",
       "      <td>-1, 0</td>\n",
       "      <td>unknown</td>\n",
       "    </tr>\n",
       "    <tr>\n",
       "      <th>2</th>\n",
       "      <td>ALTER_HH</td>\n",
       "      <td>0</td>\n",
       "      <td>unknown / no main age detectable</td>\n",
       "    </tr>\n",
       "    <tr>\n",
       "      <th>3</th>\n",
       "      <td>ANREDE_KZ</td>\n",
       "      <td>-1, 0</td>\n",
       "      <td>unknown</td>\n",
       "    </tr>\n",
       "    <tr>\n",
       "      <th>4</th>\n",
       "      <td>ANZ_HAUSHALTE_AKTIV</td>\n",
       "      <td>…</td>\n",
       "      <td>numeric value (typically coded from 1-10)</td>\n",
       "    </tr>\n",
       "  </tbody>\n",
       "</table>\n",
       "</div>"
      ],
      "text/plain": [
       "              Attribute  Value                                    Meaning\n",
       "0              AGER_TYP     -1                                    unknown\n",
       "1  ALTERSKATEGORIE_GROB  -1, 0                                    unknown\n",
       "2              ALTER_HH      0           unknown / no main age detectable\n",
       "3             ANREDE_KZ  -1, 0                                    unknown\n",
       "4   ANZ_HAUSHALTE_AKTIV      …  numeric value (typically coded from 1-10)"
      ]
     },
     "execution_count": 410,
     "metadata": {},
     "output_type": "execute_result"
    }
   ],
   "source": [
    "description.head(5)"
   ]
  },
  {
   "cell_type": "markdown",
   "metadata": {},
   "source": [
    "### Cleaning"
   ]
  },
  {
   "cell_type": "markdown",
   "metadata": {},
   "source": [
    "After evaluating the data, we will proceed to clean up the data by writing the necessary functions. Our approach is as follows.\n",
    "- Delete columns with more than 40% NAs\n",
    "- clean the dataframe description to identify the values to be transformed into nas\n",
    "- replace unknown values by NAs\n",
    "- Input missing values by :\n",
    "    - Numerical features => Median\n",
    "    - Categorical features => Most frequent (Mode)\n",
    "- Encode data\n",
    "    - Binary features => transform values to [0,1]      \n",
    "    - All other features => one hot encoding\n",
    "- Scale data using the StandardScaler method from sklearn"
   ]
  },
  {
   "cell_type": "code",
   "execution_count": 411,
   "metadata": {},
   "outputs": [],
   "source": [
    "# Delete columns with more than 40% NAs\n",
    "\n",
    "def delete_nas(df):\n",
    "    '''\n",
    "    Delete columns with more than 40% NAs and rows with more than 50% Nas\n",
    "    INPUT : \n",
    "        df [dataframe]: a dataframe to clean\n",
    "        \n",
    "    OUTPUT:\n",
    "        dt : the cleaned data\n",
    "    '''\n",
    "  \n",
    "    print(\"Before columns deleting , data shape : {} \".format(df.shape))\n",
    "    mask = (df.isnull().sum()/df.shape[0])>0.4\n",
    "    dt=df[df.columns[~mask]]\n",
    "    print(\"After columns deleting , data shape : {} \".format(dt.shape))\n",
    "    \n",
    "    mask = (dt.isnull().sum(axis=1)/dt.shape[1])>0.5# Rows \n",
    "    dt = dt[~mask]\n",
    "    print(\"After rows deleting , data shape : {} \".format(dt.shape))\n",
    "    \n",
    "    return dt    "
   ]
  },
  {
   "cell_type": "code",
   "execution_count": 412,
   "metadata": {},
   "outputs": [],
   "source": [
    "# clean the dataframe description to identify the values to be transformed into nas\n",
    "\n",
    "def clean_description(description):\n",
    "    '''\n",
    "    Clean the dataframe description to identify the values to be transformed into nas\n",
    "    INPUT : \n",
    "        description [dataframe]: description data\n",
    "    \n",
    "    OUTPUT:\n",
    "        dt : the description containing only values uded to encode unknown data\n",
    "    '''\n",
    "    dt=description.copy()\n",
    "    dt = dt[dt.Meaning.str.contains('know',na=False)].reset_index(drop=True)\n",
    "    \n",
    "    s = dt['Value'].str.split(',').apply(pd.Series, 1).stack()\n",
    "    s.index = s.index.droplevel(1)\n",
    "    s.name='replace_value'\n",
    "    dt = dt.join(s)\n",
    "    dt.loc[dt.replace_value.isna(),'replace_value']=dt[~dt.Value.str.contains(',',na=False)].Value\n",
    "    dt.reset_index(drop=True,inplace=True)\n",
    "    dt['replace_value']=dt['replace_value'].astype(float)\n",
    "    \n",
    "    return dt\n",
    "\n",
    "# replace unknown values by NAs\n",
    "\n",
    "def unknown_to_nas(df,description_c):\n",
    "    '''\n",
    "    replace unknown values by NAs\n",
    "    INPUT : \n",
    "        df [dataframe]: a dataframe to clean\n",
    "        description_c [dataframe]: the cleaned description data\n",
    "        \n",
    "    OUTPUT:\n",
    "        dt : the cleaned data\n",
    "    '''\n",
    "    dt = df.copy()\n",
    "    cols = df.columns.intersection(description_c.columns)\n",
    "    for i in range(len(description_c[cols])):\n",
    "        value = description_c.loc[i,'replace_value']\n",
    "        col = description_c.loc[0,'Attribute']\n",
    "        mask = dt[col] == value\n",
    "        dt[mask]= np.nan\n",
    "        \n",
    "    return dt"
   ]
  },
  {
   "cell_type": "code",
   "execution_count": 505,
   "metadata": {},
   "outputs": [],
   "source": [
    "# Input missing values by Median (numerical) or Mode (others)\n",
    "\n",
    "def input_nas(df,description_c):\n",
    "    '''\n",
    "    Input missing values by Median (numerical) or Mode (others)\n",
    "    INPUT : \n",
    "        df [dataframe]: a dataframe to clean\n",
    "        description_c [dataframe]: the cleaned description data\n",
    "        \n",
    "    OUTPUT:\n",
    "        data : the cleaned data\n",
    "    '''\n",
    "    dt=description_c.copy()\n",
    "    data=df.copy()\n",
    "    \n",
    "    dt=dt[dt.Meaning.str.contains('numeric',na=False)]\n",
    "    #dt.reset_index(drop=True,inplace=True)\n",
    "\n",
    "    print(\"Number of Nas before filling : {}\".format(data.isnull().sum().sum()))\n",
    "    # Numerical features => Median\n",
    "    mask = dt.Attribute.values\n",
    "    data[mask]= data[mask].fillna(data.median())\n",
    "    print(\"Number of Nas after filling Numeric features : {}\".format(data.isnull().sum().sum()))\n",
    "    \n",
    "    # Categorical features => Most frequent (Mode)\n",
    "    mask = data.columns.difference(mask)\n",
    "    data[mask]= data[mask].fillna(data.mode().iloc[0])\n",
    "    print(\"Number of Nas after  filling All features: {}\".format(data.isnull().sum().sum()))\n",
    "    \n",
    "    return data#.reset_index(drop=True)"
   ]
  },
  {
   "cell_type": "code",
   "execution_count": 506,
   "metadata": {},
   "outputs": [],
   "source": [
    "# Encode data    - Binary features => transform values to [0,1] \n",
    "    \n",
    "def encode_data(df,description_c):\n",
    "    '''\n",
    "    Encode categorical data\n",
    "    INPUT : \n",
    "        df [dataframe]: a dataframe to clean\n",
    "        \n",
    "    OUTPUT:\n",
    "        df : the cleaned data\n",
    "    '''\n",
    "    # encode CAMEO features\n",
    "    cols = [\"CAMEO_DEUG_2015\", \"CAMEO_INTL_2015\"]\n",
    "    df[cols] = df[cols].replace({\"X\": np.nan, \"XX\": np.nan})\n",
    "    df[cols] = df[cols].astype(float)\n",
    "    df.fillna(0,inplace=True)\n",
    "    \n",
    "    # drop some features\n",
    "    cols= ['CAMEO_DEU_2015','D19_LETZTER_KAUF_BRANCHE','EINGEFUEGT_AM','OST_WEST_KZ']\n",
    "    df=df.drop(columns=cols,axis=1)\n",
    "    \n",
    "    # Scale numerical Numerical features\n",
    "    scaler = StandardScaler()\n",
    "    scaled_arr = scaler.fit_transform(df)\n",
    "    data_scaled = pd.DataFrame(scaled_arr, columns = df.columns)\n",
    "    df =data_scaled\n",
    "    \n",
    "    return df"
   ]
  },
  {
   "cell_type": "code",
   "execution_count": 460,
   "metadata": {},
   "outputs": [
    {
     "data": {
      "text/plain": [
       "['CAMEO_DEU_2015',\n",
       " 'CAMEO_DEUG_2015',\n",
       " 'CAMEO_INTL_2015',\n",
       " 'D19_LETZTER_KAUF_BRANCHE',\n",
       " 'EINGEFUEGT_AM',\n",
       " 'OST_WEST_KZ']"
      ]
     },
     "execution_count": 460,
     "metadata": {},
     "output_type": "execute_result"
    }
   ],
   "source": [
    "list(pop.select_dtypes(include='object').columns)"
   ]
  },
  {
   "cell_type": "code",
   "execution_count": 507,
   "metadata": {},
   "outputs": [],
   "source": [
    "def process_data(data,description):\n",
    "    '''\n",
    "    Clean data from beginning to end\n",
    "    INPUT : \n",
    "        data [dataframe]: a dataframe to clean\n",
    "        description [dataframe]: the description data\n",
    "    OUTPUT:\n",
    "        data : the scaled data\n",
    "    '''\n",
    "    # clean description data\n",
    "    print(\"Cleaning description data ...\")\n",
    "    description_c = clean_description(description)\n",
    "    \n",
    "    # delete Nas\n",
    "    print(\"Deleting Nas columns ...\")\n",
    "    data = delete_nas(data)\n",
    "    \n",
    "    # replace Unknown by  Nas\n",
    "    print(\"Replacing Unknowns by Nas ...\")\n",
    "    data = unknown_to_nas(data,description_c)\n",
    "    \n",
    "    # input nas\n",
    "    print(\"Inputing Nas values ...\")\n",
    "    data = input_nas(data,description_c)\n",
    "    \n",
    "    # encode data\n",
    "    print(\"Encoding data ...\")\n",
    "    data = encode_data(data,description_c)\n",
    "    \n",
    "    data.fillna(method='ffill',inplace=True)\n",
    "    \n",
    "    print(data.shape)\n",
    "    \n",
    "    return data\n",
    "    "
   ]
  },
  {
   "cell_type": "markdown",
   "metadata": {},
   "source": [
    "#### lets clean data"
   ]
  },
  {
   "cell_type": "code",
   "execution_count": 508,
   "metadata": {},
   "outputs": [
    {
     "name": "stdout",
     "output_type": "stream",
     "text": [
      "Cleaning description data ...\n",
      "Deleting Nas columns ...\n",
      "Before columns deleting , data shape : (5000, 366) \n",
      "After columns deleting , data shape : (5000, 360) \n",
      "After rows deleting , data shape : (4418, 360) \n",
      "Replacing Unknowns by Nas ...\n",
      "Inputing Nas values ...\n",
      "Number of Nas before filling : 1173403\n",
      "Number of Nas after filling Numeric features : 1173403\n",
      "Number of Nas after  filling All features: 0\n",
      "Encoding data ...\n",
      "(4418, 356)\n",
      "CPU times: user 41.3 s, sys: 20.6 ms, total: 41.3 s\n",
      "Wall time: 41.7 s\n"
     ]
    }
   ],
   "source": [
    "%%time\n",
    "pop_c = process_data(pop,description)"
   ]
  },
  {
   "cell_type": "code",
   "execution_count": 509,
   "metadata": {},
   "outputs": [
    {
     "name": "stdout",
     "output_type": "stream",
     "text": [
      "Cleaning description data ...\n",
      "Deleting Nas columns ...\n",
      "Before columns deleting , data shape : (5000, 366) \n",
      "After columns deleting , data shape : (5000, 360) \n",
      "After rows deleting , data shape : (3694, 360) \n",
      "Replacing Unknowns by Nas ...\n",
      "Inputing Nas values ...\n",
      "Number of Nas before filling : 463496\n",
      "Number of Nas after filling Numeric features : 463496\n",
      "Number of Nas after  filling All features: 0\n",
      "Encoding data ...\n",
      "(3694, 356)\n",
      "CPU times: user 39.6 s, sys: 0 ns, total: 39.6 s\n",
      "Wall time: 39.9 s\n"
     ]
    }
   ],
   "source": [
    "%%time\n",
    "cust_c=process_data(cust,description)"
   ]
  },
  {
   "cell_type": "markdown",
   "metadata": {},
   "source": [
    "## Part 1: Customer Segmentation Report\n",
    "\n",
    "The main bulk of your analysis will come in this part of the project. Here, you should use unsupervised learning techniques to describe the relationship between the demographics of the company's existing customers and the general population of Germany. By the end of this part, you should be able to describe parts of the general population that are more likely to be part of the mail-order company's main customer base, and which parts of the general population are less so."
   ]
  },
  {
   "cell_type": "markdown",
   "metadata": {},
   "source": [
    "In this part we will proceed in two steps: \n",
    "- the reduction of dimensions with a PCA algorithm. By using a dimensionality reduction technique, we can effectively reduce the number of features which do not vary much in the data.\n",
    "- clustering using the KNN algorithm"
   ]
  },
  {
   "cell_type": "markdown",
   "metadata": {},
   "source": [
    "### Dimension reduction"
   ]
  },
  {
   "cell_type": "markdown",
   "metadata": {},
   "source": [
    "##### customer data"
   ]
  },
  {
   "cell_type": "code",
   "execution_count": 510,
   "metadata": {},
   "outputs": [
    {
     "name": "stdout",
     "output_type": "stream",
     "text": [
      "CPU times: user 1.66 s, sys: 0 ns, total: 1.66 s\n",
      "Wall time: 1.71 s\n"
     ]
    },
    {
     "data": {
      "image/png": "[encoded data removed]",
      "text/plain": [
       "<matplotlib.figure.Figure at 0x7f5c7c5bca58>"
      ]
     },
     "metadata": {
      "needs_background": "light"
     },
     "output_type": "display_data"
    }
   ],
   "source": [
    "%%time\n",
    "\n",
    "pca = PCA() # init pca\n",
    "pca.fit(pop_c) # fit the dataset into pca model\n",
    "\n",
    "num_components = len(pca.explained_variance_ratio_)\n",
    "ind = np.arange(num_components)\n",
    "cumulativeValue = pca.explained_variance_ratio_.cumsum()\n",
    "\n",
    "#we can plot the cumulative value as below\n",
    "plt.figure(figsize= (10, 8)) # size of the chart(size of the vectors)\n",
    "plt.plot(ind, cumulativeValue, marker = 'o', linestyle=\"--\");"
   ]
  },
  {
   "cell_type": "code",
   "execution_count": 511,
   "metadata": {},
   "outputs": [],
   "source": [
    "df= pd.DataFrame(cumulativeValue,columns=[\"cum_variance\"])\n",
    "mask=df.cum_variance > 0.90"
   ]
  },
  {
   "cell_type": "code",
   "execution_count": 512,
   "metadata": {},
   "outputs": [
    {
     "data": {
      "text/plain": [
       "141"
      ]
     },
     "execution_count": 512,
     "metadata": {},
     "output_type": "execute_result"
    }
   ],
   "source": [
    "df[mask].index[0]"
   ]
  },
  {
   "cell_type": "markdown",
   "metadata": {},
   "source": [
    "**According to the graph above we are able to explain 90% of the variance with 141 variables. This is the value we will retain.**"
   ]
  },
  {
   "cell_type": "code",
   "execution_count": 513,
   "metadata": {},
   "outputs": [
    {
     "name": "stdout",
     "output_type": "stream",
     "text": [
      "CPU times: user 526 ms, sys: 3.69 ms, total: 530 ms\n",
      "Wall time: 545 ms\n"
     ]
    },
    {
     "data": {
      "image/png": "[encoded data removed]",
      "text/plain": [
       "<matplotlib.figure.Figure at 0x7f5c7c5bc908>"
      ]
     },
     "metadata": {
      "needs_background": "light"
     },
     "output_type": "display_data"
    }
   ],
   "source": [
    "%%time\n",
    "pca = PCA(141) # init pca\n",
    "customer_pca=pca.fit_transform(cust_c) # fit the dataset into pca model\n",
    "\n",
    "num_components = len(pca.explained_variance_ratio_)\n",
    "ind = np.arange(num_components)\n",
    "cumulativeValue = pca.explained_variance_ratio_.cumsum()\n",
    "\n",
    "#we can plot the cumulative value as below\n",
    "plt.figure(figsize= (10, 8)) # size of the chart(size of the vectors)\n",
    "plt.plot(ind, cumulativeValue, marker = 'o', linestyle=\"--\");"
   ]
  },
  {
   "cell_type": "code",
   "execution_count": 514,
   "metadata": {},
   "outputs": [],
   "source": [
    "def plot_features(data, pca, pc_num):\n",
    "    \n",
    "    p_comp = pd.DataFrame(np.round(pca.components_, 4), columns = data.keys()).iloc[pc_num]\n",
    "    p_comp.sort_values(ascending=False, inplace=True)\n",
    "    p_comp = pd.concat([p_comp.head(5), p_comp.tail(5)])\n",
    "    \n",
    "    p_comp.plot(kind='bar', title='Principal Component ' + str(pc_num))\n",
    "    ax = plt.gca()\n",
    "    ax.grid(linewidth='0.5', alpha=0.5)\n",
    "    ax.set_axisbelow(True)\n",
    "    plt.show()"
   ]
  },
  {
   "cell_type": "code",
   "execution_count": 515,
   "metadata": {},
   "outputs": [
    {
     "data": {
      "image/png": "[encoded data removed]",
      "text/plain": [
       "<matplotlib.figure.Figure at 0x7f5c7b3d8828>"
      ]
     },
     "metadata": {
      "needs_background": "light"
     },
     "output_type": "display_data"
    }
   ],
   "source": [
    "plot_features(cust_c,pca,1)"
   ]
  },
  {
   "cell_type": "code",
   "execution_count": 516,
   "metadata": {},
   "outputs": [
    {
     "data": {
      "image/png": "[encoded data removed]",
      "text/plain": [
       "<matplotlib.figure.Figure at 0x7f5c75644dd8>"
      ]
     },
     "metadata": {
      "needs_background": "light"
     },
     "output_type": "display_data"
    }
   ],
   "source": [
    "plot_features(cust_c,pca,2)"
   ]
  },
  {
   "cell_type": "markdown",
   "metadata": {},
   "source": [
    "##### population data"
   ]
  },
  {
   "cell_type": "code",
   "execution_count": 517,
   "metadata": {},
   "outputs": [
    {
     "name": "stdout",
     "output_type": "stream",
     "text": [
      "CPU times: user 589 ms, sys: 2 µs, total: 589 ms\n",
      "Wall time: 590 ms\n"
     ]
    }
   ],
   "source": [
    "%%time\n",
    "pca = PCA(141) # init pca\n",
    "population_pca=pca.fit_transform(pop_c) # fit the dataset into pca model"
   ]
  },
  {
   "cell_type": "markdown",
   "metadata": {},
   "source": [
    "### Clustering"
   ]
  },
  {
   "cell_type": "code",
   "execution_count": 518,
   "metadata": {},
   "outputs": [
    {
     "name": "stdout",
     "output_type": "stream",
     "text": [
      "CPU times: user 15.1 s, sys: 2.71 ms, total: 15.1 s\n",
      "Wall time: 15.2 s\n"
     ]
    },
    {
     "data": {
      "image/png": "[encoded data removed]",
      "text/plain": [
       "<matplotlib.figure.Figure at 0x7f5c757e3588>"
      ]
     },
     "metadata": {
      "needs_background": "light"
     },
     "output_type": "display_data"
    }
   ],
   "source": [
    "%%time\n",
    "# lets find out the optimal number of clusters\n",
    "\n",
    "def fit_kmeans(data, centers):\n",
    "    '''\n",
    "    returns the kmeans score regarding SSE for points to centers\n",
    "    INPUT:\n",
    "        data - the dataset you want to fit kmeans to\n",
    "        center - the number of centers you want (the k value)\n",
    "    OUTPUT:\n",
    "        score - the SSE score for the kmeans model fit to the data\n",
    "    \n",
    "    '''\n",
    "    kmeans = KMeans(n_clusters = center)\n",
    "    model = kmeans.fit(data)\n",
    "    # SSE score for kmeans model \n",
    "    score = np.abs(model.score(data))\n",
    "    return score\n",
    "\n",
    "scores = []\n",
    "centers = list(range(2,20))\n",
    "for center in centers:\n",
    "    scores.append(fit_kmeans(customer_pca, center))\n",
    "    \n",
    "# Investigate the change in within-cluster distance across number of clusters.\n",
    "# HINT: Use matplotlib's plot function to visualize this relationship.\n",
    "# Plot the original data with clusters\n",
    "plt.figure(figsize=(16, 6))\n",
    "plt.plot(centers, scores, linestyle='--', marker='o', color='b')\n",
    "plt.ylabel('SSE score')\n",
    "plt.xlabel('K')\n",
    "plt.title('SSE vs K')"
   ]
  },
  {
   "cell_type": "markdown",
   "metadata": {},
   "source": [
    "There is no clear elbow in the plot. From the elbow above, we can see that the sum of sqaured error decreasing with a high slope until around 10 clusters and then the slope decreases. We are going to perform our analyses by selecting the first 10 clusters."
   ]
  },
  {
   "cell_type": "code",
   "execution_count": 519,
   "metadata": {},
   "outputs": [],
   "source": [
    "kmeans = KMeans(n_clusters = 10)"
   ]
  },
  {
   "cell_type": "code",
   "execution_count": 520,
   "metadata": {},
   "outputs": [
    {
     "name": "stdout",
     "output_type": "stream",
     "text": [
      "CPU times: user 813 ms, sys: 0 ns, total: 813 ms\n",
      "Wall time: 819 ms\n"
     ]
    }
   ],
   "source": [
    "%%time\n",
    "# Clustered customer data\n",
    "kmeans.fit(customer_pca)\n",
    "customer_clusters=kmeans.predict(customer_pca)"
   ]
  },
  {
   "cell_type": "code",
   "execution_count": 521,
   "metadata": {},
   "outputs": [
    {
     "name": "stdout",
     "output_type": "stream",
     "text": [
      "CPU times: user 637 ms, sys: 0 ns, total: 637 ms\n",
      "Wall time: 639 ms\n"
     ]
    }
   ],
   "source": [
    "%%time\n",
    "# Clustered population data\n",
    "kmeans.fit(population_pca)\n",
    "population_clusters=kmeans.predict(population_pca)"
   ]
  },
  {
   "cell_type": "code",
   "execution_count": 522,
   "metadata": {},
   "outputs": [],
   "source": [
    "# lets plot the cluster\n",
    "cluster_info = pd.DataFrame([])\n",
    "\n",
    "cluster_info[\"Population\"] = pd.Series(population_clusters).value_counts().sort_index()\n",
    "cluster_info[\"Customers\"] = pd.Series(customer_clusters).value_counts().sort_index()\n",
    "cluster_info.reset_index(inplace=True)\n",
    "cluster_info.rename(columns={\"index\":\"Cluster\"}, inplace=True)"
   ]
  },
  {
   "cell_type": "code",
   "execution_count": 523,
   "metadata": {},
   "outputs": [
    {
     "data": {
      "text/html": [
       "<div>\n",
       "<style scoped>\n",
       "    .dataframe tbody tr th:only-of-type {\n",
       "        vertical-align: middle;\n",
       "    }\n",
       "\n",
       "    .dataframe tbody tr th {\n",
       "        vertical-align: top;\n",
       "    }\n",
       "\n",
       "    .dataframe thead th {\n",
       "        text-align: right;\n",
       "    }\n",
       "</style>\n",
       "<table border=\"1\" class=\"dataframe\">\n",
       "  <thead>\n",
       "    <tr style=\"text-align: right;\">\n",
       "      <th></th>\n",
       "      <th>Cluster</th>\n",
       "      <th>Population</th>\n",
       "      <th>Customers</th>\n",
       "    </tr>\n",
       "  </thead>\n",
       "  <tbody>\n",
       "    <tr>\n",
       "      <th>0</th>\n",
       "      <td>0</td>\n",
       "      <td>3248</td>\n",
       "      <td>1271</td>\n",
       "    </tr>\n",
       "    <tr>\n",
       "      <th>1</th>\n",
       "      <td>1</td>\n",
       "      <td>24</td>\n",
       "      <td>582</td>\n",
       "    </tr>\n",
       "    <tr>\n",
       "      <th>2</th>\n",
       "      <td>2</td>\n",
       "      <td>95</td>\n",
       "      <td>20</td>\n",
       "    </tr>\n",
       "    <tr>\n",
       "      <th>3</th>\n",
       "      <td>3</td>\n",
       "      <td>186</td>\n",
       "      <td>46</td>\n",
       "    </tr>\n",
       "    <tr>\n",
       "      <th>4</th>\n",
       "      <td>4</td>\n",
       "      <td>125</td>\n",
       "      <td>363</td>\n",
       "    </tr>\n",
       "    <tr>\n",
       "      <th>5</th>\n",
       "      <td>5</td>\n",
       "      <td>252</td>\n",
       "      <td>144</td>\n",
       "    </tr>\n",
       "    <tr>\n",
       "      <th>6</th>\n",
       "      <td>6</td>\n",
       "      <td>184</td>\n",
       "      <td>432</td>\n",
       "    </tr>\n",
       "    <tr>\n",
       "      <th>7</th>\n",
       "      <td>7</td>\n",
       "      <td>6</td>\n",
       "      <td>327</td>\n",
       "    </tr>\n",
       "    <tr>\n",
       "      <th>8</th>\n",
       "      <td>8</td>\n",
       "      <td>104</td>\n",
       "      <td>202</td>\n",
       "    </tr>\n",
       "    <tr>\n",
       "      <th>9</th>\n",
       "      <td>9</td>\n",
       "      <td>194</td>\n",
       "      <td>307</td>\n",
       "    </tr>\n",
       "  </tbody>\n",
       "</table>\n",
       "</div>"
      ],
      "text/plain": [
       "   Cluster  Population  Customers\n",
       "0        0        3248       1271\n",
       "1        1          24        582\n",
       "2        2          95         20\n",
       "3        3         186         46\n",
       "4        4         125        363\n",
       "5        5         252        144\n",
       "6        6         184        432\n",
       "7        7           6        327\n",
       "8        8         104        202\n",
       "9        9         194        307"
      ]
     },
     "execution_count": 523,
     "metadata": {},
     "output_type": "execute_result"
    }
   ],
   "source": [
    "cluster_info"
   ]
  },
  {
   "cell_type": "code",
   "execution_count": 524,
   "metadata": {},
   "outputs": [],
   "source": [
    "cluster_info[\"Pop_proportion\"] = (cluster_info[\"Population\"]/cluster_info[\"Population\"].sum()*100).round(2)\n",
    "cluster_info[\"Cust_proportion\"] = (cluster_info[\"Customers\"]/cluster_info[\"Customers\"].sum()*100).round(2)"
   ]
  },
  {
   "cell_type": "code",
   "execution_count": 525,
   "metadata": {},
   "outputs": [
    {
     "data": {
      "text/html": [
       "<div>\n",
       "<style scoped>\n",
       "    .dataframe tbody tr th:only-of-type {\n",
       "        vertical-align: middle;\n",
       "    }\n",
       "\n",
       "    .dataframe tbody tr th {\n",
       "        vertical-align: top;\n",
       "    }\n",
       "\n",
       "    .dataframe thead th {\n",
       "        text-align: right;\n",
       "    }\n",
       "</style>\n",
       "<table border=\"1\" class=\"dataframe\">\n",
       "  <thead>\n",
       "    <tr style=\"text-align: right;\">\n",
       "      <th></th>\n",
       "      <th>Cluster</th>\n",
       "      <th>Population</th>\n",
       "      <th>Customers</th>\n",
       "      <th>Pop_proportion</th>\n",
       "      <th>Cust_proportion</th>\n",
       "    </tr>\n",
       "  </thead>\n",
       "  <tbody>\n",
       "    <tr>\n",
       "      <th>0</th>\n",
       "      <td>0</td>\n",
       "      <td>3248</td>\n",
       "      <td>1271</td>\n",
       "      <td>73.52</td>\n",
       "      <td>34.41</td>\n",
       "    </tr>\n",
       "    <tr>\n",
       "      <th>1</th>\n",
       "      <td>1</td>\n",
       "      <td>24</td>\n",
       "      <td>582</td>\n",
       "      <td>0.54</td>\n",
       "      <td>15.76</td>\n",
       "    </tr>\n",
       "    <tr>\n",
       "      <th>2</th>\n",
       "      <td>2</td>\n",
       "      <td>95</td>\n",
       "      <td>20</td>\n",
       "      <td>2.15</td>\n",
       "      <td>0.54</td>\n",
       "    </tr>\n",
       "    <tr>\n",
       "      <th>3</th>\n",
       "      <td>3</td>\n",
       "      <td>186</td>\n",
       "      <td>46</td>\n",
       "      <td>4.21</td>\n",
       "      <td>1.25</td>\n",
       "    </tr>\n",
       "    <tr>\n",
       "      <th>4</th>\n",
       "      <td>4</td>\n",
       "      <td>125</td>\n",
       "      <td>363</td>\n",
       "      <td>2.83</td>\n",
       "      <td>9.83</td>\n",
       "    </tr>\n",
       "    <tr>\n",
       "      <th>5</th>\n",
       "      <td>5</td>\n",
       "      <td>252</td>\n",
       "      <td>144</td>\n",
       "      <td>5.70</td>\n",
       "      <td>3.90</td>\n",
       "    </tr>\n",
       "    <tr>\n",
       "      <th>6</th>\n",
       "      <td>6</td>\n",
       "      <td>184</td>\n",
       "      <td>432</td>\n",
       "      <td>4.16</td>\n",
       "      <td>11.69</td>\n",
       "    </tr>\n",
       "    <tr>\n",
       "      <th>7</th>\n",
       "      <td>7</td>\n",
       "      <td>6</td>\n",
       "      <td>327</td>\n",
       "      <td>0.14</td>\n",
       "      <td>8.85</td>\n",
       "    </tr>\n",
       "    <tr>\n",
       "      <th>8</th>\n",
       "      <td>8</td>\n",
       "      <td>104</td>\n",
       "      <td>202</td>\n",
       "      <td>2.35</td>\n",
       "      <td>5.47</td>\n",
       "    </tr>\n",
       "    <tr>\n",
       "      <th>9</th>\n",
       "      <td>9</td>\n",
       "      <td>194</td>\n",
       "      <td>307</td>\n",
       "      <td>4.39</td>\n",
       "      <td>8.31</td>\n",
       "    </tr>\n",
       "  </tbody>\n",
       "</table>\n",
       "</div>"
      ],
      "text/plain": [
       "   Cluster  Population  Customers  Pop_proportion  Cust_proportion\n",
       "0        0        3248       1271           73.52            34.41\n",
       "1        1          24        582            0.54            15.76\n",
       "2        2          95         20            2.15             0.54\n",
       "3        3         186         46            4.21             1.25\n",
       "4        4         125        363            2.83             9.83\n",
       "5        5         252        144            5.70             3.90\n",
       "6        6         184        432            4.16            11.69\n",
       "7        7           6        327            0.14             8.85\n",
       "8        8         104        202            2.35             5.47\n",
       "9        9         194        307            4.39             8.31"
      ]
     },
     "execution_count": 525,
     "metadata": {},
     "output_type": "execute_result"
    }
   ],
   "source": [
    "cluster_info"
   ]
  },
  {
   "cell_type": "code",
   "execution_count": 526,
   "metadata": {},
   "outputs": [
    {
     "data": {
      "image/png": "[encoded data removed]",
      "text/plain": [
       "<matplotlib.figure.Figure at 0x7f5c7bcc7f28>"
      ]
     },
     "metadata": {
      "needs_background": "light"
     },
     "output_type": "display_data"
    }
   ],
   "source": [
    "fig, (ax1, ax2) = plt.subplots(1,2, figsize=(10, 4))\n",
    "\n",
    "ax1.bar(cluster_info[\"Cluster\"], cluster_info[\"Population\"])\n",
    "ax1.set_xlabel(\"Cluster\")\n",
    "ax1.set_ylabel(\"No. of People\")\n",
    "ax1.set_title(\"General Population\")\n",
    "\n",
    "ax2.bar(cluster_info[\"Cluster\"], cluster_info[\"Customers\"])\n",
    "ax2.set_xlabel(\"Cluster\")\n",
    "ax2.set_ylabel(\"No. of People\")\n",
    "ax2.set_title(\"Customers\")\n",
    "\n",
    "fig.suptitle(\"Cluster Distributions\")\n",
    "fig.tight_layout(rect=[0, 0.03, 1, 0.95])\n",
    "plt.show()"
   ]
  },
  {
   "cell_type": "code",
   "execution_count": 527,
   "metadata": {},
   "outputs": [
    {
     "data": {
      "image/png": "[encoded data removed]",
      "text/plain": [
       "<matplotlib.figure.Figure at 0x7f5c762d90b8>"
      ]
     },
     "metadata": {
      "needs_background": "light"
     },
     "output_type": "display_data"
    }
   ],
   "source": [
    "cluster_info.plot(x='Cluster', y = ['Pop_proportion', 'Cust_proportion'], kind='bar', figsize=(9,6))\n",
    "plt.ylabel('proportion of persons in each cluster')\n",
    "plt.show()"
   ]
  },
  {
   "cell_type": "markdown",
   "metadata": {},
   "source": [
    "**The clustering results allow us to affirm that the potential new customers are in clusters 1, 4, 6, 8 and 9. Indeed, we observe a strong presence of the company's customers there.**"
   ]
  },
  {
   "cell_type": "markdown",
   "metadata": {},
   "source": [
    "## Part 2: Supervised Learning Model\n",
    "\n",
    "Now that you've found which parts of the population are more likely to be customers of the mail-order company, it's time to build a prediction model. Each of the rows in the \"MAILOUT\" data files represents an individual that was targeted for a mailout campaign. Ideally, we should be able to use the demographic information from each individual to decide whether or not it will be worth it to include that person in the campaign.\n",
    "\n",
    "The \"MAILOUT\" data has been split into two approximately equal parts, each with almost 43 000 data rows. In this part, you can verify your model with the \"TRAIN\" partition, which includes a column, \"RESPONSE\", that states whether or not a person became a customer of the company following the campaign. In the next part, you'll need to create predictions on the \"TEST\" partition, where the \"RESPONSE\" column has been withheld."
   ]
  },
  {
   "cell_type": "code",
   "execution_count": 528,
   "metadata": {},
   "outputs": [
    {
     "name": "stdout",
     "output_type": "stream",
     "text": [
      "CPU times: user 1.44 s, sys: 76.2 ms, total: 1.51 s\n",
      "Wall time: 1.58 s\n"
     ]
    },
    {
     "name": "stderr",
     "output_type": "stream",
     "text": [
      "<string>:2: DtypeWarning: Columns (18,19) have mixed types. Specify dtype option on import or set low_memory=False.\n"
     ]
    }
   ],
   "source": [
    "%%time\n",
    "mailout_train = pd.read_csv('../../data/Term2/capstone/arvato_data/Udacity_MAILOUT_052018_TRAIN.csv', sep=';')"
   ]
  },
  {
   "cell_type": "code",
   "execution_count": 529,
   "metadata": {},
   "outputs": [
    {
     "data": {
      "text/plain": [
       "(42962, 367)"
      ]
     },
     "execution_count": 529,
     "metadata": {},
     "output_type": "execute_result"
    }
   ],
   "source": [
    "mailout_train.shape"
   ]
  },
  {
   "cell_type": "code",
   "execution_count": null,
   "metadata": {},
   "outputs": [],
   "source": [
    "mailout_train = mailout_train.drop('LNR',axis=1)"
   ]
  },
  {
   "cell_type": "markdown",
   "metadata": {},
   "source": [
    "#### cleaning of the mailout data"
   ]
  },
  {
   "cell_type": "code",
   "execution_count": 530,
   "metadata": {},
   "outputs": [
    {
     "name": "stdout",
     "output_type": "stream",
     "text": [
      "Cleaning description data ...\n",
      "Deleting Nas columns ...\n",
      "Before columns deleting , data shape : (42962, 367) \n",
      "After columns deleting , data shape : (42962, 362) \n",
      "After rows deleting , data shape : (35101, 362) \n",
      "Replacing Unknowns by Nas ...\n",
      "Inputing Nas values ...\n",
      "Number of Nas before filling : 4267894\n",
      "Number of Nas after filling Numeric features : 4267894\n",
      "Number of Nas after  filling All features: 0\n",
      "Encoding data ...\n",
      "(35101, 358)\n"
     ]
    }
   ],
   "source": [
    "mailout_train_clean=process_data(mailout_train,description)"
   ]
  },
  {
   "cell_type": "code",
   "execution_count": 531,
   "metadata": {},
   "outputs": [
    {
     "name": "stdout",
     "output_type": "stream",
     "text": [
      "<class 'pandas.core.frame.DataFrame'>\n",
      "RangeIndex: 35101 entries, 0 to 35100\n",
      "Columns: 358 entries, LNR to ALTERSKATEGORIE_GROB\n",
      "dtypes: float64(358)\n",
      "memory usage: 95.9 MB\n"
     ]
    }
   ],
   "source": [
    "mailout_train_clean.info()"
   ]
  },
  {
   "cell_type": "code",
   "execution_count": 538,
   "metadata": {},
   "outputs": [],
   "source": [
    "X = mailout_train_clean.drop(['RESPONSE'], axis=1)\n",
    "y = mailout_train.loc[mailout_train_clean.index,'RESPONSE']"
   ]
  },
  {
   "cell_type": "code",
   "execution_count": 544,
   "metadata": {},
   "outputs": [],
   "source": [
    "X_train, X_test, y_train, y_test = train_test_split(X, y, random_state=42,test_size=0.5)"
   ]
  },
  {
   "cell_type": "code",
   "execution_count": 545,
   "metadata": {},
   "outputs": [
    {
     "name": "stdout",
     "output_type": "stream",
     "text": [
      "CPU times: user 1.16 s, sys: 0 ns, total: 1.16 s\n",
      "Wall time: 1.16 s\n"
     ]
    }
   ],
   "source": [
    "%%time\n",
    "logisticRegr = LogisticRegression(solver = 'lbfgs')\n",
    "logisticRegr.fit(X_train, y_train)"
   ]
  },
  {
   "cell_type": "code",
   "execution_count": 546,
   "metadata": {},
   "outputs": [
    {
     "name": "stdout",
     "output_type": "stream",
     "text": [
      "0.986553472737\n",
      "CPU times: user 21.7 ms, sys: 0 ns, total: 21.7 ms\n",
      "Wall time: 24.3 ms\n"
     ]
    }
   ],
   "source": [
    "%%time\n",
    "predictions = logisticRegr.predict(X_test)\n",
    "score = logisticRegr.score(X_test, y_test)\n",
    "print(score)"
   ]
  },
  {
   "cell_type": "markdown",
   "metadata": {},
   "source": [
    "**Our model is 98% efficient. We believe that there is certainly overlearning due to the imbalance in the data between the two classes of responses. Accuracy might not be the best metric in this case. Lets find out the value of ROC measure**"
   ]
  },
  {
   "cell_type": "code",
   "execution_count": 570,
   "metadata": {},
   "outputs": [],
   "source": [
    "roc=roc_auc_score(y_test, logisticRegr.predict_proba(X_test)[:,1])"
   ]
  },
  {
   "cell_type": "code",
   "execution_count": 571,
   "metadata": {},
   "outputs": [
    {
     "data": {
      "text/plain": [
       "0.48477761176876222"
      ]
     },
     "execution_count": 571,
     "metadata": {},
     "output_type": "execute_result"
    }
   ],
   "source": [
    "roc"
   ]
  },
  {
   "cell_type": "markdown",
   "metadata": {},
   "source": [
    "## Part 3: Kaggle Competition\n",
    "\n",
    "Now that you've created a model to predict which individuals are most likely to respond to a mailout campaign, it's time to test that model in competition through Kaggle. If you click on the link [here](http://www.kaggle.com/t/21e6d45d4c574c7fa2d868f0e8c83140), you'll be taken to the competition page where, if you have a Kaggle account, you can enter. If you're one of the top performers, you may have the chance to be contacted by a hiring manager from Arvato or Bertelsmann for an interview!\n",
    "\n",
    "Your entry to the competition should be a CSV file with two columns. The first column should be a copy of \"LNR\", which acts as an ID number for each individual in the \"TEST\" partition. The second column, \"RESPONSE\", should be some measure of how likely each individual became a customer – this might not be a straightforward probability. As you should have found in Part 2, there is a large output class imbalance, where most individuals did not respond to the mailout. Thus, predicting individual classes and using accuracy does not seem to be an appropriate performance evaluation method. Instead, the competition will be using AUC to evaluate performance. The exact values of the \"RESPONSE\" column do not matter as much: only that the higher values try to capture as many of the actual customers as possible, early in the ROC curve sweep."
   ]
  },
  {
   "cell_type": "code",
   "execution_count": 547,
   "metadata": {},
   "outputs": [
    {
     "name": "stderr",
     "output_type": "stream",
     "text": [
      "/opt/conda/lib/python3.6/site-packages/IPython/core/interactiveshell.py:2785: DtypeWarning: Columns (18,19) have mixed types. Specify dtype option on import or set low_memory=False.\n",
      "  interactivity=interactivity, compiler=compiler, result=result)\n"
     ]
    }
   ],
   "source": [
    "mailout_test = pd.read_csv('../../data/Term2/capstone/arvato_data/Udacity_MAILOUT_052018_TEST.csv', sep=';')"
   ]
  },
  {
   "cell_type": "code",
   "execution_count": 548,
   "metadata": {},
   "outputs": [
    {
     "data": {
      "text/plain": [
       "(42833, 366)"
      ]
     },
     "execution_count": 548,
     "metadata": {},
     "output_type": "execute_result"
    }
   ],
   "source": [
    "mailout_test.shape"
   ]
  },
  {
   "cell_type": "code",
   "execution_count": 550,
   "metadata": {},
   "outputs": [
    {
     "name": "stdout",
     "output_type": "stream",
     "text": [
      "Cleaning description data ...\n",
      "Deleting Nas columns ...\n",
      "Before columns deleting , data shape : (42833, 366) \n",
      "After columns deleting , data shape : (42833, 361) \n",
      "After rows deleting , data shape : (35111, 361) \n",
      "Replacing Unknowns by Nas ...\n",
      "Inputing Nas values ...\n",
      "Number of Nas before filling : 4300859\n",
      "Number of Nas after filling Numeric features : 4300859\n",
      "Number of Nas after  filling All features: 0\n",
      "Encoding data ...\n",
      "(35111, 357)\n"
     ]
    }
   ],
   "source": [
    "mailout_test_clean = process_data(mailout_test,description)"
   ]
  },
  {
   "cell_type": "code",
   "execution_count": 561,
   "metadata": {},
   "outputs": [],
   "source": [
    "submission_kaggle = pd.DataFrame()"
   ]
  },
  {
   "cell_type": "code",
   "execution_count": 563,
   "metadata": {},
   "outputs": [],
   "source": [
    "submission_kaggle['LNR']= mailout_test.loc[mailout_test_clean.index,'LNR']"
   ]
  },
  {
   "cell_type": "code",
   "execution_count": 551,
   "metadata": {},
   "outputs": [],
   "source": [
    "#predict target values\n",
    "kaggle_predict = logisticRegr.predict(mailout_test_clean)[:,1]"
   ]
  },
  {
   "cell_type": "code",
   "execution_count": 565,
   "metadata": {},
   "outputs": [],
   "source": [
    "submission_kaggle['RESPONSE']=kaggle_predict"
   ]
  },
  {
   "cell_type": "code",
   "execution_count": 572,
   "metadata": {},
   "outputs": [
    {
     "data": {
      "text/html": [
       "<div>\n",
       "<style scoped>\n",
       "    .dataframe tbody tr th:only-of-type {\n",
       "        vertical-align: middle;\n",
       "    }\n",
       "\n",
       "    .dataframe tbody tr th {\n",
       "        vertical-align: top;\n",
       "    }\n",
       "\n",
       "    .dataframe thead th {\n",
       "        text-align: right;\n",
       "    }\n",
       "</style>\n",
       "<table border=\"1\" class=\"dataframe\">\n",
       "  <thead>\n",
       "    <tr style=\"text-align: right;\">\n",
       "      <th></th>\n",
       "      <th>LNR</th>\n",
       "      <th>RESPONSE</th>\n",
       "    </tr>\n",
       "  </thead>\n",
       "  <tbody>\n",
       "    <tr>\n",
       "      <th>0</th>\n",
       "      <td>1754</td>\n",
       "      <td>0</td>\n",
       "    </tr>\n",
       "    <tr>\n",
       "      <th>1</th>\n",
       "      <td>1770</td>\n",
       "      <td>0</td>\n",
       "    </tr>\n",
       "  </tbody>\n",
       "</table>\n",
       "</div>"
      ],
      "text/plain": [
       "    LNR  RESPONSE\n",
       "0  1754         0\n",
       "1  1770         0"
      ]
     },
     "execution_count": 572,
     "metadata": {},
     "output_type": "execute_result"
    }
   ],
   "source": [
    "submission_kaggle.head(2)"
   ]
  },
  {
   "cell_type": "code",
   "execution_count": 576,
   "metadata": {},
   "outputs": [],
   "source": [
    "submission_kaggle.to_csv('kaggle_submission.csv', index=False)"
   ]
  },
  {
   "cell_type": "code",
   "execution_count": null,
   "metadata": {},
   "outputs": [],
   "source": []
  }
 ],
 "metadata": {
  "kernelspec": {
   "display_name": "Python 3",
   "language": "python",
   "name": "python3"
  },
  "language_info": {
   "codemirror_mode": {
    "name": "ipython",
    "version": 3
   },
   "file_extension": ".py",
   "mimetype": "text/x-python",
   "name": "python",
   "nbconvert_exporter": "python",
   "pygments_lexer": "ipython3",
   "version": "3.6.3"
  }
 },
 "nbformat": 4,
 "nbformat_minor": 2
}
